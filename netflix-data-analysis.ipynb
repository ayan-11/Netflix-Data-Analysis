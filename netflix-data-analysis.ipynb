{
 "cells": [
  {
   "cell_type": "code",
   "execution_count": 1,
   "id": "aa62b3c2",
   "metadata": {
    "_cell_guid": "b1076dfc-b9ad-4769-8c92-a6c4dae69d19",
    "_uuid": "8f2839f25d086af736a60e9eeb907d3b93b6e0e5",
    "execution": {
     "iopub.execute_input": "2023-12-27T04:59:15.527742Z",
     "iopub.status.busy": "2023-12-27T04:59:15.526922Z",
     "iopub.status.idle": "2023-12-27T04:59:15.845826Z",
     "shell.execute_reply": "2023-12-27T04:59:15.845240Z"
    },
    "papermill": {
     "duration": 0.325385,
     "end_time": "2023-12-27T04:59:15.847248",
     "exception": false,
     "start_time": "2023-12-27T04:59:15.521863",
     "status": "completed"
    },
    "tags": []
   },
   "outputs": [
    {
     "name": "stdout",
     "output_type": "stream",
     "text": [
      "/kaggle/input/official-netflix-streaming-data/all-weeks-countries.csv\n",
      "/kaggle/input/official-netflix-streaming-data/most-popular.csv\n",
      "/kaggle/input/official-netflix-streaming-data/all-weeks-global.csv\n"
     ]
    }
   ],
   "source": [
    "# This Python 3 environment comes with many helpful analytics libraries installed\n",
    "# It is defined by the kaggle/python Docker image: https://github.com/kaggle/docker-python\n",
    "# For example, here's several helpful packages to load\n",
    "\n",
    "import numpy as np # linear algebra\n",
    "import pandas as pd # data processing, CSV file I/O (e.g. pd.read_csv)\n",
    "import matplotlib.pyplot as plt\n",
    "\n",
    "# Input data files are available in the read-only \"../input/\" directory\n",
    "# For example, running this (by clicking run or pressing Shift+Enter) will list all files under the input directory\n",
    "\n",
    "import os\n",
    "for dirname, _, filenames in os.walk('/kaggle/input'):\n",
    "    for filename in filenames:\n",
    "        print(os.path.join(dirname, filename))\n",
    "\n",
    "# You can write up to 20GB to the current directory (/kaggle/working/) that gets preserved as output when you create a version using \"Save & Run All\" \n",
    "# You can also write temporary files to /kaggle/temp/, but they won't be saved outside of the current session"
   ]
  },
  {
   "cell_type": "code",
   "execution_count": 2,
   "id": "83c5ac1b",
   "metadata": {
    "execution": {
     "iopub.execute_input": "2023-12-27T04:59:15.855428Z",
     "iopub.status.busy": "2023-12-27T04:59:15.854445Z",
     "iopub.status.idle": "2023-12-27T04:59:16.235940Z",
     "shell.execute_reply": "2023-12-27T04:59:16.235066Z"
    },
    "papermill": {
     "duration": 0.387359,
     "end_time": "2023-12-27T04:59:16.238009",
     "exception": false,
     "start_time": "2023-12-27T04:59:15.850650",
     "status": "completed"
    },
    "tags": []
   },
   "outputs": [],
   "source": [
    "wcountries = pd.read_csv('/kaggle/input/official-netflix-streaming-data/all-weeks-countries.csv', encoding='latin-1')\n",
    "popular = pd.read_csv('/kaggle/input/official-netflix-streaming-data/most-popular.csv', encoding='latin-1')\n",
    "wglobal = pd.read_csv(r'/kaggle/input/official-netflix-streaming-data/all-weeks-global.csv', encoding='latin-1')"
   ]
  },
  {
   "cell_type": "code",
   "execution_count": 3,
   "id": "064be7da",
   "metadata": {
    "execution": {
     "iopub.execute_input": "2023-12-27T04:59:16.247076Z",
     "iopub.status.busy": "2023-12-27T04:59:16.246693Z",
     "iopub.status.idle": "2023-12-27T04:59:16.265734Z",
     "shell.execute_reply": "2023-12-27T04:59:16.265155Z"
    },
    "papermill": {
     "duration": 0.025736,
     "end_time": "2023-12-27T04:59:16.267454",
     "exception": false,
     "start_time": "2023-12-27T04:59:16.241718",
     "status": "completed"
    },
    "tags": []
   },
   "outputs": [
    {
     "data": {
      "text/html": [
       "<div>\n",
       "<style scoped>\n",
       "    .dataframe tbody tr th:only-of-type {\n",
       "        vertical-align: middle;\n",
       "    }\n",
       "\n",
       "    .dataframe tbody tr th {\n",
       "        vertical-align: top;\n",
       "    }\n",
       "\n",
       "    .dataframe thead th {\n",
       "        text-align: right;\n",
       "    }\n",
       "</style>\n",
       "<table border=\"1\" class=\"dataframe\">\n",
       "  <thead>\n",
       "    <tr style=\"text-align: right;\">\n",
       "      <th></th>\n",
       "      <th>country_name</th>\n",
       "      <th>country_iso2</th>\n",
       "      <th>week</th>\n",
       "      <th>category</th>\n",
       "      <th>weekly_rank</th>\n",
       "      <th>show_title</th>\n",
       "      <th>season_title</th>\n",
       "      <th>cumulative_weeks_in_top_10</th>\n",
       "    </tr>\n",
       "  </thead>\n",
       "  <tbody>\n",
       "    <tr>\n",
       "      <th>0</th>\n",
       "      <td>Argentina</td>\n",
       "      <td>AR</td>\n",
       "      <td>2023-12-17</td>\n",
       "      <td>Films</td>\n",
       "      <td>1</td>\n",
       "      <td>Leave the World Behind</td>\n",
       "      <td>NaN</td>\n",
       "      <td>2</td>\n",
       "    </tr>\n",
       "    <tr>\n",
       "      <th>1</th>\n",
       "      <td>Argentina</td>\n",
       "      <td>AR</td>\n",
       "      <td>2023-12-17</td>\n",
       "      <td>Films</td>\n",
       "      <td>2</td>\n",
       "      <td>El Amor Menos Pensado</td>\n",
       "      <td>NaN</td>\n",
       "      <td>1</td>\n",
       "    </tr>\n",
       "    <tr>\n",
       "      <th>2</th>\n",
       "      <td>Argentina</td>\n",
       "      <td>AR</td>\n",
       "      <td>2023-12-17</td>\n",
       "      <td>Films</td>\n",
       "      <td>3</td>\n",
       "      <td>Old</td>\n",
       "      <td>NaN</td>\n",
       "      <td>1</td>\n",
       "    </tr>\n",
       "    <tr>\n",
       "      <th>3</th>\n",
       "      <td>Argentina</td>\n",
       "      <td>AR</td>\n",
       "      <td>2023-12-17</td>\n",
       "      <td>Films</td>\n",
       "      <td>4</td>\n",
       "      <td>The Lost City</td>\n",
       "      <td>NaN</td>\n",
       "      <td>1</td>\n",
       "    </tr>\n",
       "    <tr>\n",
       "      <th>4</th>\n",
       "      <td>Argentina</td>\n",
       "      <td>AR</td>\n",
       "      <td>2023-12-17</td>\n",
       "      <td>Films</td>\n",
       "      <td>5</td>\n",
       "      <td>Women on the Edge</td>\n",
       "      <td>NaN</td>\n",
       "      <td>3</td>\n",
       "    </tr>\n",
       "  </tbody>\n",
       "</table>\n",
       "</div>"
      ],
      "text/plain": [
       "  country_name country_iso2        week category  weekly_rank  \\\n",
       "0    Argentina           AR  2023-12-17    Films            1   \n",
       "1    Argentina           AR  2023-12-17    Films            2   \n",
       "2    Argentina           AR  2023-12-17    Films            3   \n",
       "3    Argentina           AR  2023-12-17    Films            4   \n",
       "4    Argentina           AR  2023-12-17    Films            5   \n",
       "\n",
       "               show_title season_title  cumulative_weeks_in_top_10  \n",
       "0  Leave the World Behind          NaN                           2  \n",
       "1   El Amor Menos Pensado          NaN                           1  \n",
       "2                     Old          NaN                           1  \n",
       "3           The Lost City          NaN                           1  \n",
       "4       Women on the Edge          NaN                           3  "
      ]
     },
     "execution_count": 3,
     "metadata": {},
     "output_type": "execute_result"
    }
   ],
   "source": [
    "wcountries.head()"
   ]
  },
  {
   "cell_type": "code",
   "execution_count": 4,
   "id": "909ea8a2",
   "metadata": {
    "execution": {
     "iopub.execute_input": "2023-12-27T04:59:16.276243Z",
     "iopub.status.busy": "2023-12-27T04:59:16.275462Z",
     "iopub.status.idle": "2023-12-27T04:59:16.323192Z",
     "shell.execute_reply": "2023-12-27T04:59:16.322408Z"
    },
    "papermill": {
     "duration": 0.053612,
     "end_time": "2023-12-27T04:59:16.324864",
     "exception": false,
     "start_time": "2023-12-27T04:59:16.271252",
     "status": "completed"
    },
    "tags": []
   },
   "outputs": [
    {
     "data": {
      "text/plain": [
       "country_name                       0\n",
       "country_iso2                       0\n",
       "week                               0\n",
       "category                           0\n",
       "weekly_rank                        0\n",
       "show_title                         0\n",
       "season_title                  124155\n",
       "cumulative_weeks_in_top_10         0\n",
       "dtype: int64"
      ]
     },
     "execution_count": 4,
     "metadata": {},
     "output_type": "execute_result"
    }
   ],
   "source": [
    "wcountries.isnull().sum()"
   ]
  },
  {
   "cell_type": "code",
   "execution_count": 5,
   "id": "dde0d10b",
   "metadata": {
    "execution": {
     "iopub.execute_input": "2023-12-27T04:59:16.333354Z",
     "iopub.status.busy": "2023-12-27T04:59:16.332526Z",
     "iopub.status.idle": "2023-12-27T04:59:16.349888Z",
     "shell.execute_reply": "2023-12-27T04:59:16.349159Z"
    },
    "papermill": {
     "duration": 0.023058,
     "end_time": "2023-12-27T04:59:16.351474",
     "exception": false,
     "start_time": "2023-12-27T04:59:16.328416",
     "status": "completed"
    },
    "tags": []
   },
   "outputs": [
    {
     "data": {
      "text/plain": [
       "array([nan, 'My Life With the Walter Boys: Season 1',\n",
       "       'High Tides: Season 1', ..., 'Empresses in the Palace: Season 1',\n",
       "       'SKY Castle: Season 1', 'Vagabond: Season 1'], dtype=object)"
      ]
     },
     "execution_count": 5,
     "metadata": {},
     "output_type": "execute_result"
    }
   ],
   "source": [
    "wcountries['season_title'].unique()"
   ]
  },
  {
   "cell_type": "code",
   "execution_count": 6,
   "id": "76246c55",
   "metadata": {
    "execution": {
     "iopub.execute_input": "2023-12-27T04:59:16.359533Z",
     "iopub.status.busy": "2023-12-27T04:59:16.359301Z",
     "iopub.status.idle": "2023-12-27T04:59:16.383530Z",
     "shell.execute_reply": "2023-12-27T04:59:16.382653Z"
    },
    "papermill": {
     "duration": 0.030217,
     "end_time": "2023-12-27T04:59:16.385188",
     "exception": false,
     "start_time": "2023-12-27T04:59:16.354971",
     "status": "completed"
    },
    "tags": []
   },
   "outputs": [
    {
     "data": {
      "text/plain": [
       "array(['Leave the World Behind', 'El Amor Menos Pensado', 'Old', ...,\n",
       "       'Sweet 20', 'The Fiery Priest', 'My Mr. Wife'], dtype=object)"
      ]
     },
     "execution_count": 6,
     "metadata": {},
     "output_type": "execute_result"
    }
   ],
   "source": [
    "wcountries['show_title'].unique()"
   ]
  },
  {
   "cell_type": "code",
   "execution_count": 7,
   "id": "f2ad3f6d",
   "metadata": {
    "execution": {
     "iopub.execute_input": "2023-12-27T04:59:16.393722Z",
     "iopub.status.busy": "2023-12-27T04:59:16.393484Z",
     "iopub.status.idle": "2023-12-27T04:59:16.404248Z",
     "shell.execute_reply": "2023-12-27T04:59:16.403402Z"
    },
    "papermill": {
     "duration": 0.017316,
     "end_time": "2023-12-27T04:59:16.406241",
     "exception": false,
     "start_time": "2023-12-27T04:59:16.388925",
     "status": "completed"
    },
    "tags": []
   },
   "outputs": [],
   "source": [
    "data=wcountries.copy()"
   ]
  },
  {
   "cell_type": "code",
   "execution_count": 8,
   "id": "3c8f4293",
   "metadata": {
    "execution": {
     "iopub.execute_input": "2023-12-27T04:59:16.414915Z",
     "iopub.status.busy": "2023-12-27T04:59:16.414663Z",
     "iopub.status.idle": "2023-12-27T04:59:16.436859Z",
     "shell.execute_reply": "2023-12-27T04:59:16.436251Z"
    },
    "papermill": {
     "duration": 0.02845,
     "end_time": "2023-12-27T04:59:16.438726",
     "exception": false,
     "start_time": "2023-12-27T04:59:16.410276",
     "status": "completed"
    },
    "tags": []
   },
   "outputs": [],
   "source": [
    "data=data.drop(['season_title','country_name'],axis=1)"
   ]
  },
  {
   "cell_type": "code",
   "execution_count": 9,
   "id": "188bdd83",
   "metadata": {
    "execution": {
     "iopub.execute_input": "2023-12-27T04:59:16.447332Z",
     "iopub.status.busy": "2023-12-27T04:59:16.446757Z",
     "iopub.status.idle": "2023-12-27T04:59:16.480898Z",
     "shell.execute_reply": "2023-12-27T04:59:16.480145Z"
    },
    "papermill": {
     "duration": 0.04003,
     "end_time": "2023-12-27T04:59:16.482487",
     "exception": false,
     "start_time": "2023-12-27T04:59:16.442457",
     "status": "completed"
    },
    "tags": []
   },
   "outputs": [
    {
     "data": {
      "text/plain": [
       "country_iso2                  0\n",
       "week                          0\n",
       "category                      0\n",
       "weekly_rank                   0\n",
       "show_title                    0\n",
       "cumulative_weeks_in_top_10    0\n",
       "dtype: int64"
      ]
     },
     "execution_count": 9,
     "metadata": {},
     "output_type": "execute_result"
    }
   ],
   "source": [
    "data.isnull().sum()"
   ]
  },
  {
   "cell_type": "code",
   "execution_count": 10,
   "id": "ceddadd0",
   "metadata": {
    "execution": {
     "iopub.execute_input": "2023-12-27T04:59:16.491133Z",
     "iopub.status.busy": "2023-12-27T04:59:16.490702Z",
     "iopub.status.idle": "2023-12-27T04:59:16.500720Z",
     "shell.execute_reply": "2023-12-27T04:59:16.499862Z"
    },
    "papermill": {
     "duration": 0.01623,
     "end_time": "2023-12-27T04:59:16.502497",
     "exception": false,
     "start_time": "2023-12-27T04:59:16.486267",
     "status": "completed"
    },
    "tags": []
   },
   "outputs": [
    {
     "data": {
      "text/html": [
       "<div>\n",
       "<style scoped>\n",
       "    .dataframe tbody tr th:only-of-type {\n",
       "        vertical-align: middle;\n",
       "    }\n",
       "\n",
       "    .dataframe tbody tr th {\n",
       "        vertical-align: top;\n",
       "    }\n",
       "\n",
       "    .dataframe thead th {\n",
       "        text-align: right;\n",
       "    }\n",
       "</style>\n",
       "<table border=\"1\" class=\"dataframe\">\n",
       "  <thead>\n",
       "    <tr style=\"text-align: right;\">\n",
       "      <th></th>\n",
       "      <th>country_iso2</th>\n",
       "      <th>week</th>\n",
       "      <th>category</th>\n",
       "      <th>weekly_rank</th>\n",
       "      <th>show_title</th>\n",
       "      <th>cumulative_weeks_in_top_10</th>\n",
       "    </tr>\n",
       "  </thead>\n",
       "  <tbody>\n",
       "    <tr>\n",
       "      <th>0</th>\n",
       "      <td>AR</td>\n",
       "      <td>2023-12-17</td>\n",
       "      <td>Films</td>\n",
       "      <td>1</td>\n",
       "      <td>Leave the World Behind</td>\n",
       "      <td>2</td>\n",
       "    </tr>\n",
       "    <tr>\n",
       "      <th>1</th>\n",
       "      <td>AR</td>\n",
       "      <td>2023-12-17</td>\n",
       "      <td>Films</td>\n",
       "      <td>2</td>\n",
       "      <td>El Amor Menos Pensado</td>\n",
       "      <td>1</td>\n",
       "    </tr>\n",
       "    <tr>\n",
       "      <th>2</th>\n",
       "      <td>AR</td>\n",
       "      <td>2023-12-17</td>\n",
       "      <td>Films</td>\n",
       "      <td>3</td>\n",
       "      <td>Old</td>\n",
       "      <td>1</td>\n",
       "    </tr>\n",
       "    <tr>\n",
       "      <th>3</th>\n",
       "      <td>AR</td>\n",
       "      <td>2023-12-17</td>\n",
       "      <td>Films</td>\n",
       "      <td>4</td>\n",
       "      <td>The Lost City</td>\n",
       "      <td>1</td>\n",
       "    </tr>\n",
       "    <tr>\n",
       "      <th>4</th>\n",
       "      <td>AR</td>\n",
       "      <td>2023-12-17</td>\n",
       "      <td>Films</td>\n",
       "      <td>5</td>\n",
       "      <td>Women on the Edge</td>\n",
       "      <td>3</td>\n",
       "    </tr>\n",
       "  </tbody>\n",
       "</table>\n",
       "</div>"
      ],
      "text/plain": [
       "  country_iso2        week category  weekly_rank              show_title  \\\n",
       "0           AR  2023-12-17    Films            1  Leave the World Behind   \n",
       "1           AR  2023-12-17    Films            2   El Amor Menos Pensado   \n",
       "2           AR  2023-12-17    Films            3                     Old   \n",
       "3           AR  2023-12-17    Films            4           The Lost City   \n",
       "4           AR  2023-12-17    Films            5       Women on the Edge   \n",
       "\n",
       "   cumulative_weeks_in_top_10  \n",
       "0                           2  \n",
       "1                           1  \n",
       "2                           1  \n",
       "3                           1  \n",
       "4                           3  "
      ]
     },
     "execution_count": 10,
     "metadata": {},
     "output_type": "execute_result"
    }
   ],
   "source": [
    "data.head()"
   ]
  },
  {
   "cell_type": "code",
   "execution_count": 11,
   "id": "6ea779f1",
   "metadata": {
    "execution": {
     "iopub.execute_input": "2023-12-27T04:59:16.512795Z",
     "iopub.status.busy": "2023-12-27T04:59:16.512218Z",
     "iopub.status.idle": "2023-12-27T04:59:16.545230Z",
     "shell.execute_reply": "2023-12-27T04:59:16.544556Z"
    },
    "papermill": {
     "duration": 0.04047,
     "end_time": "2023-12-27T04:59:16.547297",
     "exception": false,
     "start_time": "2023-12-27T04:59:16.506827",
     "status": "completed"
    },
    "tags": []
   },
   "outputs": [],
   "source": [
    "data['week'] = pd.to_datetime(data['week'])"
   ]
  },
  {
   "cell_type": "code",
   "execution_count": 12,
   "id": "ae759637",
   "metadata": {
    "execution": {
     "iopub.execute_input": "2023-12-27T04:59:16.557082Z",
     "iopub.status.busy": "2023-12-27T04:59:16.556759Z",
     "iopub.status.idle": "2023-12-27T04:59:16.570890Z",
     "shell.execute_reply": "2023-12-27T04:59:16.569846Z"
    },
    "papermill": {
     "duration": 0.021937,
     "end_time": "2023-12-27T04:59:16.573404",
     "exception": false,
     "start_time": "2023-12-27T04:59:16.551467",
     "status": "completed"
    },
    "tags": []
   },
   "outputs": [
    {
     "data": {
      "text/plain": [
       "array([12, 11, 10,  9,  8,  7,  6,  5,  4,  3,  2,  1], dtype=int32)"
      ]
     },
     "execution_count": 12,
     "metadata": {},
     "output_type": "execute_result"
    }
   ],
   "source": [
    "a=data['week'].dt.month\n",
    "a.unique()"
   ]
  },
  {
   "cell_type": "code",
   "execution_count": 13,
   "id": "11831fa0",
   "metadata": {
    "execution": {
     "iopub.execute_input": "2023-12-27T04:59:16.582495Z",
     "iopub.status.busy": "2023-12-27T04:59:16.582193Z",
     "iopub.status.idle": "2023-12-27T04:59:16.607146Z",
     "shell.execute_reply": "2023-12-27T04:59:16.606047Z"
    },
    "papermill": {
     "duration": 0.032296,
     "end_time": "2023-12-27T04:59:16.609759",
     "exception": false,
     "start_time": "2023-12-27T04:59:16.577463",
     "status": "completed"
    },
    "tags": []
   },
   "outputs": [
    {
     "data": {
      "text/plain": [
       "6392"
      ]
     },
     "execution_count": 13,
     "metadata": {},
     "output_type": "execute_result"
    }
   ],
   "source": [
    "data['show_title'].nunique()"
   ]
  }
 ],
 "metadata": {
  "kaggle": {
   "accelerator": "none",
   "dataSources": [
    {
     "datasetId": 4199617,
     "sourceId": 7248776,
     "sourceType": "datasetVersion"
    }
   ],
   "dockerImageVersionId": 30626,
   "isGpuEnabled": false,
   "isInternetEnabled": true,
   "language": "python",
   "sourceType": "notebook"
  },
  "kernelspec": {
   "display_name": "Python 3",
   "language": "python",
   "name": "python3"
  },
  "language_info": {
   "codemirror_mode": {
    "name": "ipython",
    "version": 3
   },
   "file_extension": ".py",
   "mimetype": "text/x-python",
   "name": "python",
   "nbconvert_exporter": "python",
   "pygments_lexer": "ipython3",
   "version": "3.10.12"
  },
  "papermill": {
   "default_parameters": {},
   "duration": 3.80711,
   "end_time": "2023-12-27T04:59:16.931171",
   "environment_variables": {},
   "exception": null,
   "input_path": "__notebook__.ipynb",
   "output_path": "__notebook__.ipynb",
   "parameters": {},
   "start_time": "2023-12-27T04:59:13.124061",
   "version": "2.4.0"
  }
 },
 "nbformat": 4,
 "nbformat_minor": 5
}
