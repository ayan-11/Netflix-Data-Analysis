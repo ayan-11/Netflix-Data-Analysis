{
 "cells": [
  {
   "cell_type": "code",
   "execution_count": 1,
   "id": "8fcb3e81",
   "metadata": {
    "_cell_guid": "b1076dfc-b9ad-4769-8c92-a6c4dae69d19",
    "_uuid": "8f2839f25d086af736a60e9eeb907d3b93b6e0e5",
    "execution": {
     "iopub.execute_input": "2024-02-06T17:51:37.457634Z",
     "iopub.status.busy": "2024-02-06T17:51:37.456487Z",
     "iopub.status.idle": "2024-02-06T17:51:38.372535Z",
     "shell.execute_reply": "2024-02-06T17:51:38.371435Z"
    },
    "papermill": {
     "duration": 0.939141,
     "end_time": "2024-02-06T17:51:38.375304",
     "exception": false,
     "start_time": "2024-02-06T17:51:37.436163",
     "status": "completed"
    },
    "tags": []
   },
   "outputs": [
    {
     "name": "stdout",
     "output_type": "stream",
     "text": [
      "/kaggle/input/zomato-bangalore-restaurants/zomato.csv\n"
     ]
    }
   ],
   "source": [
    "# This Python 3 environment comes with many helpful analytics libraries installed\n",
    "# It is defined by the kaggle/python Docker image: https://github.com/kaggle/docker-python\n",
    "# For example, here's several helpful packages to load\n",
    "\n",
    "import numpy as np # linear algebra\n",
    "import pandas as pd # data processing, CSV file I/O (e.g. pd.read_csv)\n",
    "\n",
    "# Input data files are available in the read-only \"../input/\" directory\n",
    "# For example, running this (by clicking run or pressing Shift+Enter) will list all files under the input directory\n",
    "\n",
    "import os\n",
    "for dirname, _, filenames in os.walk('/kaggle/input'):\n",
    "    for filename in filenames:\n",
    "        print(os.path.join(dirname, filename))\n",
    "\n",
    "# You can write up to 20GB to the current directory (/kaggle/working/) that gets preserved as output when you create a version using \"Save & Run All\" \n",
    "# You can also write temporary files to /kaggle/temp/, but they won't be saved outside of the current session"
   ]
  },
  {
   "cell_type": "code",
   "execution_count": 2,
   "id": "a1af572f",
   "metadata": {
    "execution": {
     "iopub.execute_input": "2024-02-06T17:51:38.410860Z",
     "iopub.status.busy": "2024-02-06T17:51:38.410326Z",
     "iopub.status.idle": "2024-02-06T17:51:39.810693Z",
     "shell.execute_reply": "2024-02-06T17:51:39.809457Z"
    },
    "papermill": {
     "duration": 1.421236,
     "end_time": "2024-02-06T17:51:39.813618",
     "exception": false,
     "start_time": "2024-02-06T17:51:38.392382",
     "status": "completed"
    },
    "tags": []
   },
   "outputs": [],
   "source": [
    "import numpy as np\n",
    "import pandas as pd\n",
    "import seaborn as sns\n",
    "import matplotlib.pyplot as plt\n",
    "%matplotlib inline"
   ]
  },
  {
   "cell_type": "code",
   "execution_count": 3,
   "id": "c18914bb",
   "metadata": {
    "execution": {
     "iopub.execute_input": "2024-02-06T17:51:39.848674Z",
     "iopub.status.busy": "2024-02-06T17:51:39.848268Z",
     "iopub.status.idle": "2024-02-06T17:51:52.529788Z",
     "shell.execute_reply": "2024-02-06T17:51:52.528807Z"
    },
    "papermill": {
     "duration": 12.702179,
     "end_time": "2024-02-06T17:51:52.532558",
     "exception": false,
     "start_time": "2024-02-06T17:51:39.830379",
     "status": "completed"
    },
    "tags": []
   },
   "outputs": [],
   "source": [
    "df=pd.read_csv(\"/kaggle/input/zomato-bangalore-restaurants/zomato.csv\")"
   ]
  },
  {
   "cell_type": "code",
   "execution_count": 4,
   "id": "37bd9697",
   "metadata": {
    "execution": {
     "iopub.execute_input": "2024-02-06T17:51:52.571095Z",
     "iopub.status.busy": "2024-02-06T17:51:52.570056Z",
     "iopub.status.idle": "2024-02-06T17:51:52.596906Z",
     "shell.execute_reply": "2024-02-06T17:51:52.595693Z"
    },
    "papermill": {
     "duration": 0.048032,
     "end_time": "2024-02-06T17:51:52.599482",
     "exception": false,
     "start_time": "2024-02-06T17:51:52.551450",
     "status": "completed"
    },
    "tags": []
   },
   "outputs": [
    {
     "data": {
      "text/html": [
       "<div>\n",
       "<style scoped>\n",
       "    .dataframe tbody tr th:only-of-type {\n",
       "        vertical-align: middle;\n",
       "    }\n",
       "\n",
       "    .dataframe tbody tr th {\n",
       "        vertical-align: top;\n",
       "    }\n",
       "\n",
       "    .dataframe thead th {\n",
       "        text-align: right;\n",
       "    }\n",
       "</style>\n",
       "<table border=\"1\" class=\"dataframe\">\n",
       "  <thead>\n",
       "    <tr style=\"text-align: right;\">\n",
       "      <th></th>\n",
       "      <th>url</th>\n",
       "      <th>address</th>\n",
       "      <th>name</th>\n",
       "      <th>online_order</th>\n",
       "      <th>book_table</th>\n",
       "      <th>rate</th>\n",
       "      <th>votes</th>\n",
       "      <th>phone</th>\n",
       "      <th>location</th>\n",
       "      <th>rest_type</th>\n",
       "      <th>dish_liked</th>\n",
       "      <th>cuisines</th>\n",
       "      <th>approx_cost(for two people)</th>\n",
       "      <th>reviews_list</th>\n",
       "      <th>menu_item</th>\n",
       "      <th>listed_in(type)</th>\n",
       "      <th>listed_in(city)</th>\n",
       "    </tr>\n",
       "  </thead>\n",
       "  <tbody>\n",
       "    <tr>\n",
       "      <th>0</th>\n",
       "      <td>https://www.zomato.com/bangalore/jalsa-banasha...</td>\n",
       "      <td>942, 21st Main Road, 2nd Stage, Banashankari, ...</td>\n",
       "      <td>Jalsa</td>\n",
       "      <td>Yes</td>\n",
       "      <td>Yes</td>\n",
       "      <td>4.1/5</td>\n",
       "      <td>775</td>\n",
       "      <td>080 42297555\\r\\n+91 9743772233</td>\n",
       "      <td>Banashankari</td>\n",
       "      <td>Casual Dining</td>\n",
       "      <td>Pasta, Lunch Buffet, Masala Papad, Paneer Laja...</td>\n",
       "      <td>North Indian, Mughlai, Chinese</td>\n",
       "      <td>800</td>\n",
       "      <td>[('Rated 4.0', 'RATED\\n  A beautiful place to ...</td>\n",
       "      <td>[]</td>\n",
       "      <td>Buffet</td>\n",
       "      <td>Banashankari</td>\n",
       "    </tr>\n",
       "    <tr>\n",
       "      <th>1</th>\n",
       "      <td>https://www.zomato.com/bangalore/spice-elephan...</td>\n",
       "      <td>2nd Floor, 80 Feet Road, Near Big Bazaar, 6th ...</td>\n",
       "      <td>Spice Elephant</td>\n",
       "      <td>Yes</td>\n",
       "      <td>No</td>\n",
       "      <td>4.1/5</td>\n",
       "      <td>787</td>\n",
       "      <td>080 41714161</td>\n",
       "      <td>Banashankari</td>\n",
       "      <td>Casual Dining</td>\n",
       "      <td>Momos, Lunch Buffet, Chocolate Nirvana, Thai G...</td>\n",
       "      <td>Chinese, North Indian, Thai</td>\n",
       "      <td>800</td>\n",
       "      <td>[('Rated 4.0', 'RATED\\n  Had been here for din...</td>\n",
       "      <td>[]</td>\n",
       "      <td>Buffet</td>\n",
       "      <td>Banashankari</td>\n",
       "    </tr>\n",
       "    <tr>\n",
       "      <th>2</th>\n",
       "      <td>https://www.zomato.com/SanchurroBangalore?cont...</td>\n",
       "      <td>1112, Next to KIMS Medical College, 17th Cross...</td>\n",
       "      <td>San Churro Cafe</td>\n",
       "      <td>Yes</td>\n",
       "      <td>No</td>\n",
       "      <td>3.8/5</td>\n",
       "      <td>918</td>\n",
       "      <td>+91 9663487993</td>\n",
       "      <td>Banashankari</td>\n",
       "      <td>Cafe, Casual Dining</td>\n",
       "      <td>Churros, Cannelloni, Minestrone Soup, Hot Choc...</td>\n",
       "      <td>Cafe, Mexican, Italian</td>\n",
       "      <td>800</td>\n",
       "      <td>[('Rated 3.0', \"RATED\\n  Ambience is not that ...</td>\n",
       "      <td>[]</td>\n",
       "      <td>Buffet</td>\n",
       "      <td>Banashankari</td>\n",
       "    </tr>\n",
       "    <tr>\n",
       "      <th>3</th>\n",
       "      <td>https://www.zomato.com/bangalore/addhuri-udupi...</td>\n",
       "      <td>1st Floor, Annakuteera, 3rd Stage, Banashankar...</td>\n",
       "      <td>Addhuri Udupi Bhojana</td>\n",
       "      <td>No</td>\n",
       "      <td>No</td>\n",
       "      <td>3.7/5</td>\n",
       "      <td>88</td>\n",
       "      <td>+91 9620009302</td>\n",
       "      <td>Banashankari</td>\n",
       "      <td>Quick Bites</td>\n",
       "      <td>Masala Dosa</td>\n",
       "      <td>South Indian, North Indian</td>\n",
       "      <td>300</td>\n",
       "      <td>[('Rated 4.0', \"RATED\\n  Great food and proper...</td>\n",
       "      <td>[]</td>\n",
       "      <td>Buffet</td>\n",
       "      <td>Banashankari</td>\n",
       "    </tr>\n",
       "    <tr>\n",
       "      <th>4</th>\n",
       "      <td>https://www.zomato.com/bangalore/grand-village...</td>\n",
       "      <td>10, 3rd Floor, Lakshmi Associates, Gandhi Baza...</td>\n",
       "      <td>Grand Village</td>\n",
       "      <td>No</td>\n",
       "      <td>No</td>\n",
       "      <td>3.8/5</td>\n",
       "      <td>166</td>\n",
       "      <td>+91 8026612447\\r\\n+91 9901210005</td>\n",
       "      <td>Basavanagudi</td>\n",
       "      <td>Casual Dining</td>\n",
       "      <td>Panipuri, Gol Gappe</td>\n",
       "      <td>North Indian, Rajasthani</td>\n",
       "      <td>600</td>\n",
       "      <td>[('Rated 4.0', 'RATED\\n  Very good restaurant ...</td>\n",
       "      <td>[]</td>\n",
       "      <td>Buffet</td>\n",
       "      <td>Banashankari</td>\n",
       "    </tr>\n",
       "  </tbody>\n",
       "</table>\n",
       "</div>"
      ],
      "text/plain": [
       "                                                 url  \\\n",
       "0  https://www.zomato.com/bangalore/jalsa-banasha...   \n",
       "1  https://www.zomato.com/bangalore/spice-elephan...   \n",
       "2  https://www.zomato.com/SanchurroBangalore?cont...   \n",
       "3  https://www.zomato.com/bangalore/addhuri-udupi...   \n",
       "4  https://www.zomato.com/bangalore/grand-village...   \n",
       "\n",
       "                                             address                   name  \\\n",
       "0  942, 21st Main Road, 2nd Stage, Banashankari, ...                  Jalsa   \n",
       "1  2nd Floor, 80 Feet Road, Near Big Bazaar, 6th ...         Spice Elephant   \n",
       "2  1112, Next to KIMS Medical College, 17th Cross...        San Churro Cafe   \n",
       "3  1st Floor, Annakuteera, 3rd Stage, Banashankar...  Addhuri Udupi Bhojana   \n",
       "4  10, 3rd Floor, Lakshmi Associates, Gandhi Baza...          Grand Village   \n",
       "\n",
       "  online_order book_table   rate  votes                             phone  \\\n",
       "0          Yes        Yes  4.1/5    775    080 42297555\\r\\n+91 9743772233   \n",
       "1          Yes         No  4.1/5    787                      080 41714161   \n",
       "2          Yes         No  3.8/5    918                    +91 9663487993   \n",
       "3           No         No  3.7/5     88                    +91 9620009302   \n",
       "4           No         No  3.8/5    166  +91 8026612447\\r\\n+91 9901210005   \n",
       "\n",
       "       location            rest_type  \\\n",
       "0  Banashankari        Casual Dining   \n",
       "1  Banashankari        Casual Dining   \n",
       "2  Banashankari  Cafe, Casual Dining   \n",
       "3  Banashankari          Quick Bites   \n",
       "4  Basavanagudi        Casual Dining   \n",
       "\n",
       "                                          dish_liked  \\\n",
       "0  Pasta, Lunch Buffet, Masala Papad, Paneer Laja...   \n",
       "1  Momos, Lunch Buffet, Chocolate Nirvana, Thai G...   \n",
       "2  Churros, Cannelloni, Minestrone Soup, Hot Choc...   \n",
       "3                                        Masala Dosa   \n",
       "4                                Panipuri, Gol Gappe   \n",
       "\n",
       "                         cuisines approx_cost(for two people)  \\\n",
       "0  North Indian, Mughlai, Chinese                         800   \n",
       "1     Chinese, North Indian, Thai                         800   \n",
       "2          Cafe, Mexican, Italian                         800   \n",
       "3      South Indian, North Indian                         300   \n",
       "4        North Indian, Rajasthani                         600   \n",
       "\n",
       "                                        reviews_list menu_item  \\\n",
       "0  [('Rated 4.0', 'RATED\\n  A beautiful place to ...        []   \n",
       "1  [('Rated 4.0', 'RATED\\n  Had been here for din...        []   \n",
       "2  [('Rated 3.0', \"RATED\\n  Ambience is not that ...        []   \n",
       "3  [('Rated 4.0', \"RATED\\n  Great food and proper...        []   \n",
       "4  [('Rated 4.0', 'RATED\\n  Very good restaurant ...        []   \n",
       "\n",
       "  listed_in(type) listed_in(city)  \n",
       "0          Buffet    Banashankari  \n",
       "1          Buffet    Banashankari  \n",
       "2          Buffet    Banashankari  \n",
       "3          Buffet    Banashankari  \n",
       "4          Buffet    Banashankari  "
      ]
     },
     "execution_count": 4,
     "metadata": {},
     "output_type": "execute_result"
    }
   ],
   "source": [
    "df.head()"
   ]
  },
  {
   "cell_type": "code",
   "execution_count": 5,
   "id": "1a73b96d",
   "metadata": {
    "execution": {
     "iopub.execute_input": "2024-02-06T17:51:52.635480Z",
     "iopub.status.busy": "2024-02-06T17:51:52.634749Z",
     "iopub.status.idle": "2024-02-06T17:51:52.736172Z",
     "shell.execute_reply": "2024-02-06T17:51:52.735020Z"
    },
    "papermill": {
     "duration": 0.12237,
     "end_time": "2024-02-06T17:51:52.738816",
     "exception": false,
     "start_time": "2024-02-06T17:51:52.616446",
     "status": "completed"
    },
    "tags": []
   },
   "outputs": [
    {
     "data": {
      "text/plain": [
       "url                                0\n",
       "address                            0\n",
       "name                               0\n",
       "online_order                       0\n",
       "book_table                         0\n",
       "rate                            7775\n",
       "votes                              0\n",
       "phone                           1208\n",
       "location                          21\n",
       "rest_type                        227\n",
       "dish_liked                     28078\n",
       "cuisines                          45\n",
       "approx_cost(for two people)      346\n",
       "reviews_list                       0\n",
       "menu_item                          0\n",
       "listed_in(type)                    0\n",
       "listed_in(city)                    0\n",
       "dtype: int64"
      ]
     },
     "execution_count": 5,
     "metadata": {},
     "output_type": "execute_result"
    }
   ],
   "source": [
    "df.isnull().sum()"
   ]
  },
  {
   "cell_type": "code",
   "execution_count": 6,
   "id": "6187d130",
   "metadata": {
    "execution": {
     "iopub.execute_input": "2024-02-06T17:51:52.776420Z",
     "iopub.status.busy": "2024-02-06T17:51:52.775366Z",
     "iopub.status.idle": "2024-02-06T17:51:52.892486Z",
     "shell.execute_reply": "2024-02-06T17:51:52.891100Z"
    },
    "papermill": {
     "duration": 0.139202,
     "end_time": "2024-02-06T17:51:52.895663",
     "exception": false,
     "start_time": "2024-02-06T17:51:52.756461",
     "status": "completed"
    },
    "tags": []
   },
   "outputs": [
    {
     "name": "stdout",
     "output_type": "stream",
     "text": [
      "<class 'pandas.core.frame.DataFrame'>\n",
      "RangeIndex: 51717 entries, 0 to 51716\n",
      "Data columns (total 17 columns):\n",
      " #   Column                       Non-Null Count  Dtype \n",
      "---  ------                       --------------  ----- \n",
      " 0   url                          51717 non-null  object\n",
      " 1   address                      51717 non-null  object\n",
      " 2   name                         51717 non-null  object\n",
      " 3   online_order                 51717 non-null  object\n",
      " 4   book_table                   51717 non-null  object\n",
      " 5   rate                         43942 non-null  object\n",
      " 6   votes                        51717 non-null  int64 \n",
      " 7   phone                        50509 non-null  object\n",
      " 8   location                     51696 non-null  object\n",
      " 9   rest_type                    51490 non-null  object\n",
      " 10  dish_liked                   23639 non-null  object\n",
      " 11  cuisines                     51672 non-null  object\n",
      " 12  approx_cost(for two people)  51371 non-null  object\n",
      " 13  reviews_list                 51717 non-null  object\n",
      " 14  menu_item                    51717 non-null  object\n",
      " 15  listed_in(type)              51717 non-null  object\n",
      " 16  listed_in(city)              51717 non-null  object\n",
      "dtypes: int64(1), object(16)\n",
      "memory usage: 6.7+ MB\n"
     ]
    }
   ],
   "source": [
    "df.info()"
   ]
  },
  {
   "cell_type": "code",
   "execution_count": 7,
   "id": "d2d55ba2",
   "metadata": {
    "execution": {
     "iopub.execute_input": "2024-02-06T17:51:52.936089Z",
     "iopub.status.busy": "2024-02-06T17:51:52.935014Z",
     "iopub.status.idle": "2024-02-06T17:51:52.952774Z",
     "shell.execute_reply": "2024-02-06T17:51:52.951732Z"
    },
    "papermill": {
     "duration": 0.041997,
     "end_time": "2024-02-06T17:51:52.955154",
     "exception": false,
     "start_time": "2024-02-06T17:51:52.913157",
     "status": "completed"
    },
    "tags": []
   },
   "outputs": [
    {
     "data": {
      "text/plain": [
       "listed_in(type)\n",
       "Delivery              25942\n",
       "Dine-out              17779\n",
       "Desserts               3593\n",
       "Cafes                  1723\n",
       "Drinks & nightlife     1101\n",
       "Buffet                  882\n",
       "Pubs and bars           697\n",
       "Name: count, dtype: int64"
      ]
     },
     "execution_count": 7,
     "metadata": {},
     "output_type": "execute_result"
    }
   ],
   "source": [
    "df['listed_in(type)'].value_counts()"
   ]
  },
  {
   "cell_type": "code",
   "execution_count": 8,
   "id": "5d9d109e",
   "metadata": {
    "execution": {
     "iopub.execute_input": "2024-02-06T17:51:52.992492Z",
     "iopub.status.busy": "2024-02-06T17:51:52.991432Z",
     "iopub.status.idle": "2024-02-06T17:51:53.002377Z",
     "shell.execute_reply": "2024-02-06T17:51:53.001501Z"
    },
    "papermill": {
     "duration": 0.032409,
     "end_time": "2024-02-06T17:51:53.005027",
     "exception": false,
     "start_time": "2024-02-06T17:51:52.972618",
     "status": "completed"
    },
    "tags": []
   },
   "outputs": [
    {
     "data": {
      "text/plain": [
       "array(['Casual Dining', 'Cafe, Casual Dining', 'Quick Bites',\n",
       "       'Casual Dining, Cafe', 'Cafe', 'Quick Bites, Cafe',\n",
       "       'Cafe, Quick Bites', 'Delivery', 'Mess', 'Dessert Parlor',\n",
       "       'Bakery, Dessert Parlor', 'Pub', 'Bakery', 'Takeaway, Delivery',\n",
       "       'Fine Dining', 'Beverage Shop', 'Sweet Shop', 'Bar',\n",
       "       'Beverage Shop, Quick Bites', 'Confectionery',\n",
       "       'Quick Bites, Beverage Shop', 'Dessert Parlor, Sweet Shop',\n",
       "       'Bakery, Quick Bites', 'Sweet Shop, Quick Bites', 'Kiosk',\n",
       "       'Food Truck', 'Quick Bites, Dessert Parlor',\n",
       "       'Beverage Shop, Dessert Parlor', 'Takeaway', 'Pub, Casual Dining',\n",
       "       'Casual Dining, Bar', 'Dessert Parlor, Beverage Shop',\n",
       "       'Quick Bites, Bakery', 'Dessert Parlor, Quick Bites',\n",
       "       'Microbrewery, Casual Dining', 'Lounge', 'Bar, Casual Dining',\n",
       "       'Food Court', 'Cafe, Bakery', nan, 'Dhaba',\n",
       "       'Quick Bites, Sweet Shop', 'Microbrewery',\n",
       "       'Food Court, Quick Bites', 'Pub, Bar', 'Casual Dining, Pub',\n",
       "       'Lounge, Bar', 'Food Court, Dessert Parlor',\n",
       "       'Casual Dining, Sweet Shop', 'Food Court, Casual Dining',\n",
       "       'Casual Dining, Microbrewery', 'Sweet Shop, Dessert Parlor',\n",
       "       'Bakery, Beverage Shop', 'Lounge, Casual Dining',\n",
       "       'Cafe, Food Court', 'Beverage Shop, Cafe', 'Cafe, Dessert Parlor',\n",
       "       'Dessert Parlor, Cafe', 'Dessert Parlor, Bakery',\n",
       "       'Microbrewery, Pub', 'Bakery, Food Court', 'Club',\n",
       "       'Quick Bites, Food Court', 'Bakery, Cafe', 'Bar, Cafe',\n",
       "       'Pub, Cafe', 'Casual Dining, Irani Cafee', 'Fine Dining, Lounge',\n",
       "       'Bar, Quick Bites', 'Bakery, Kiosk', 'Pub, Microbrewery',\n",
       "       'Microbrewery, Lounge', 'Fine Dining, Microbrewery',\n",
       "       'Fine Dining, Bar', 'Mess, Quick Bites', 'Dessert Parlor, Kiosk',\n",
       "       'Bhojanalya', 'Casual Dining, Quick Bites', 'Pop Up', 'Cafe, Bar',\n",
       "       'Casual Dining, Lounge', 'Bakery, Sweet Shop', 'Microbrewery, Bar',\n",
       "       'Cafe, Lounge', 'Bar, Pub', 'Lounge, Cafe', 'Club, Casual Dining',\n",
       "       'Quick Bites, Mess', 'Quick Bites, Meat Shop',\n",
       "       'Quick Bites, Kiosk', 'Lounge, Microbrewery',\n",
       "       'Food Court, Beverage Shop', 'Dessert Parlor, Food Court',\n",
       "       'Bar, Lounge'], dtype=object)"
      ]
     },
     "execution_count": 8,
     "metadata": {},
     "output_type": "execute_result"
    }
   ],
   "source": [
    "df['rest_type'].unique()"
   ]
  },
  {
   "cell_type": "code",
   "execution_count": 9,
   "id": "39658a0e",
   "metadata": {
    "execution": {
     "iopub.execute_input": "2024-02-06T17:51:53.042756Z",
     "iopub.status.busy": "2024-02-06T17:51:53.042108Z",
     "iopub.status.idle": "2024-02-06T17:51:53.056705Z",
     "shell.execute_reply": "2024-02-06T17:51:53.055807Z"
    },
    "papermill": {
     "duration": 0.036473,
     "end_time": "2024-02-06T17:51:53.059237",
     "exception": false,
     "start_time": "2024-02-06T17:51:53.022764",
     "status": "completed"
    },
    "tags": []
   },
   "outputs": [],
   "source": [
    "final_df=df.copy()"
   ]
  },
  {
   "cell_type": "code",
   "execution_count": 10,
   "id": "ec684e4e",
   "metadata": {
    "execution": {
     "iopub.execute_input": "2024-02-06T17:51:53.096753Z",
     "iopub.status.busy": "2024-02-06T17:51:53.096139Z",
     "iopub.status.idle": "2024-02-06T17:51:53.120112Z",
     "shell.execute_reply": "2024-02-06T17:51:53.119074Z"
    },
    "papermill": {
     "duration": 0.046053,
     "end_time": "2024-02-06T17:51:53.123040",
     "exception": false,
     "start_time": "2024-02-06T17:51:53.076987",
     "status": "completed"
    },
    "tags": []
   },
   "outputs": [],
   "source": [
    "final_df.drop(['listed_in(city)','url','address'],axis=1,inplace=True)"
   ]
  },
  {
   "cell_type": "code",
   "execution_count": 11,
   "id": "623e11f0",
   "metadata": {
    "execution": {
     "iopub.execute_input": "2024-02-06T17:51:53.160075Z",
     "iopub.status.busy": "2024-02-06T17:51:53.159664Z",
     "iopub.status.idle": "2024-02-06T17:51:53.179900Z",
     "shell.execute_reply": "2024-02-06T17:51:53.178785Z"
    },
    "papermill": {
     "duration": 0.04169,
     "end_time": "2024-02-06T17:51:53.182494",
     "exception": false,
     "start_time": "2024-02-06T17:51:53.140804",
     "status": "completed"
    },
    "tags": []
   },
   "outputs": [
    {
     "data": {
      "text/html": [
       "<div>\n",
       "<style scoped>\n",
       "    .dataframe tbody tr th:only-of-type {\n",
       "        vertical-align: middle;\n",
       "    }\n",
       "\n",
       "    .dataframe tbody tr th {\n",
       "        vertical-align: top;\n",
       "    }\n",
       "\n",
       "    .dataframe thead th {\n",
       "        text-align: right;\n",
       "    }\n",
       "</style>\n",
       "<table border=\"1\" class=\"dataframe\">\n",
       "  <thead>\n",
       "    <tr style=\"text-align: right;\">\n",
       "      <th></th>\n",
       "      <th>name</th>\n",
       "      <th>online_order</th>\n",
       "      <th>book_table</th>\n",
       "      <th>rate</th>\n",
       "      <th>votes</th>\n",
       "      <th>phone</th>\n",
       "      <th>location</th>\n",
       "      <th>rest_type</th>\n",
       "      <th>dish_liked</th>\n",
       "      <th>cuisines</th>\n",
       "      <th>approx_cost(for two people)</th>\n",
       "      <th>reviews_list</th>\n",
       "      <th>menu_item</th>\n",
       "      <th>listed_in(type)</th>\n",
       "    </tr>\n",
       "  </thead>\n",
       "  <tbody>\n",
       "    <tr>\n",
       "      <th>0</th>\n",
       "      <td>Jalsa</td>\n",
       "      <td>Yes</td>\n",
       "      <td>Yes</td>\n",
       "      <td>4.1/5</td>\n",
       "      <td>775</td>\n",
       "      <td>080 42297555\\r\\n+91 9743772233</td>\n",
       "      <td>Banashankari</td>\n",
       "      <td>Casual Dining</td>\n",
       "      <td>Pasta, Lunch Buffet, Masala Papad, Paneer Laja...</td>\n",
       "      <td>North Indian, Mughlai, Chinese</td>\n",
       "      <td>800</td>\n",
       "      <td>[('Rated 4.0', 'RATED\\n  A beautiful place to ...</td>\n",
       "      <td>[]</td>\n",
       "      <td>Buffet</td>\n",
       "    </tr>\n",
       "    <tr>\n",
       "      <th>1</th>\n",
       "      <td>Spice Elephant</td>\n",
       "      <td>Yes</td>\n",
       "      <td>No</td>\n",
       "      <td>4.1/5</td>\n",
       "      <td>787</td>\n",
       "      <td>080 41714161</td>\n",
       "      <td>Banashankari</td>\n",
       "      <td>Casual Dining</td>\n",
       "      <td>Momos, Lunch Buffet, Chocolate Nirvana, Thai G...</td>\n",
       "      <td>Chinese, North Indian, Thai</td>\n",
       "      <td>800</td>\n",
       "      <td>[('Rated 4.0', 'RATED\\n  Had been here for din...</td>\n",
       "      <td>[]</td>\n",
       "      <td>Buffet</td>\n",
       "    </tr>\n",
       "    <tr>\n",
       "      <th>2</th>\n",
       "      <td>San Churro Cafe</td>\n",
       "      <td>Yes</td>\n",
       "      <td>No</td>\n",
       "      <td>3.8/5</td>\n",
       "      <td>918</td>\n",
       "      <td>+91 9663487993</td>\n",
       "      <td>Banashankari</td>\n",
       "      <td>Cafe, Casual Dining</td>\n",
       "      <td>Churros, Cannelloni, Minestrone Soup, Hot Choc...</td>\n",
       "      <td>Cafe, Mexican, Italian</td>\n",
       "      <td>800</td>\n",
       "      <td>[('Rated 3.0', \"RATED\\n  Ambience is not that ...</td>\n",
       "      <td>[]</td>\n",
       "      <td>Buffet</td>\n",
       "    </tr>\n",
       "    <tr>\n",
       "      <th>3</th>\n",
       "      <td>Addhuri Udupi Bhojana</td>\n",
       "      <td>No</td>\n",
       "      <td>No</td>\n",
       "      <td>3.7/5</td>\n",
       "      <td>88</td>\n",
       "      <td>+91 9620009302</td>\n",
       "      <td>Banashankari</td>\n",
       "      <td>Quick Bites</td>\n",
       "      <td>Masala Dosa</td>\n",
       "      <td>South Indian, North Indian</td>\n",
       "      <td>300</td>\n",
       "      <td>[('Rated 4.0', \"RATED\\n  Great food and proper...</td>\n",
       "      <td>[]</td>\n",
       "      <td>Buffet</td>\n",
       "    </tr>\n",
       "    <tr>\n",
       "      <th>4</th>\n",
       "      <td>Grand Village</td>\n",
       "      <td>No</td>\n",
       "      <td>No</td>\n",
       "      <td>3.8/5</td>\n",
       "      <td>166</td>\n",
       "      <td>+91 8026612447\\r\\n+91 9901210005</td>\n",
       "      <td>Basavanagudi</td>\n",
       "      <td>Casual Dining</td>\n",
       "      <td>Panipuri, Gol Gappe</td>\n",
       "      <td>North Indian, Rajasthani</td>\n",
       "      <td>600</td>\n",
       "      <td>[('Rated 4.0', 'RATED\\n  Very good restaurant ...</td>\n",
       "      <td>[]</td>\n",
       "      <td>Buffet</td>\n",
       "    </tr>\n",
       "  </tbody>\n",
       "</table>\n",
       "</div>"
      ],
      "text/plain": [
       "                    name online_order book_table   rate  votes  \\\n",
       "0                  Jalsa          Yes        Yes  4.1/5    775   \n",
       "1         Spice Elephant          Yes         No  4.1/5    787   \n",
       "2        San Churro Cafe          Yes         No  3.8/5    918   \n",
       "3  Addhuri Udupi Bhojana           No         No  3.7/5     88   \n",
       "4          Grand Village           No         No  3.8/5    166   \n",
       "\n",
       "                              phone      location            rest_type  \\\n",
       "0    080 42297555\\r\\n+91 9743772233  Banashankari        Casual Dining   \n",
       "1                      080 41714161  Banashankari        Casual Dining   \n",
       "2                    +91 9663487993  Banashankari  Cafe, Casual Dining   \n",
       "3                    +91 9620009302  Banashankari          Quick Bites   \n",
       "4  +91 8026612447\\r\\n+91 9901210005  Basavanagudi        Casual Dining   \n",
       "\n",
       "                                          dish_liked  \\\n",
       "0  Pasta, Lunch Buffet, Masala Papad, Paneer Laja...   \n",
       "1  Momos, Lunch Buffet, Chocolate Nirvana, Thai G...   \n",
       "2  Churros, Cannelloni, Minestrone Soup, Hot Choc...   \n",
       "3                                        Masala Dosa   \n",
       "4                                Panipuri, Gol Gappe   \n",
       "\n",
       "                         cuisines approx_cost(for two people)  \\\n",
       "0  North Indian, Mughlai, Chinese                         800   \n",
       "1     Chinese, North Indian, Thai                         800   \n",
       "2          Cafe, Mexican, Italian                         800   \n",
       "3      South Indian, North Indian                         300   \n",
       "4        North Indian, Rajasthani                         600   \n",
       "\n",
       "                                        reviews_list menu_item listed_in(type)  \n",
       "0  [('Rated 4.0', 'RATED\\n  A beautiful place to ...        []          Buffet  \n",
       "1  [('Rated 4.0', 'RATED\\n  Had been here for din...        []          Buffet  \n",
       "2  [('Rated 3.0', \"RATED\\n  Ambience is not that ...        []          Buffet  \n",
       "3  [('Rated 4.0', \"RATED\\n  Great food and proper...        []          Buffet  \n",
       "4  [('Rated 4.0', 'RATED\\n  Very good restaurant ...        []          Buffet  "
      ]
     },
     "execution_count": 11,
     "metadata": {},
     "output_type": "execute_result"
    }
   ],
   "source": [
    "final_df.head()"
   ]
  },
  {
   "cell_type": "code",
   "execution_count": 12,
   "id": "ea777215",
   "metadata": {
    "execution": {
     "iopub.execute_input": "2024-02-06T17:51:53.220141Z",
     "iopub.status.busy": "2024-02-06T17:51:53.219743Z",
     "iopub.status.idle": "2024-02-06T17:51:53.232623Z",
     "shell.execute_reply": "2024-02-06T17:51:53.231387Z"
    },
    "papermill": {
     "duration": 0.035167,
     "end_time": "2024-02-06T17:51:53.235477",
     "exception": false,
     "start_time": "2024-02-06T17:51:53.200310",
     "status": "completed"
    },
    "tags": []
   },
   "outputs": [],
   "source": [
    "final_df.drop(['menu_item'],axis=1,inplace=True)"
   ]
  },
  {
   "cell_type": "code",
   "execution_count": 13,
   "id": "34dcdef1",
   "metadata": {
    "execution": {
     "iopub.execute_input": "2024-02-06T17:51:53.273722Z",
     "iopub.status.busy": "2024-02-06T17:51:53.273359Z",
     "iopub.status.idle": "2024-02-06T17:51:53.289753Z",
     "shell.execute_reply": "2024-02-06T17:51:53.289003Z"
    },
    "papermill": {
     "duration": 0.037815,
     "end_time": "2024-02-06T17:51:53.291739",
     "exception": false,
     "start_time": "2024-02-06T17:51:53.253924",
     "status": "completed"
    },
    "tags": []
   },
   "outputs": [
    {
     "data": {
      "text/html": [
       "<div>\n",
       "<style scoped>\n",
       "    .dataframe tbody tr th:only-of-type {\n",
       "        vertical-align: middle;\n",
       "    }\n",
       "\n",
       "    .dataframe tbody tr th {\n",
       "        vertical-align: top;\n",
       "    }\n",
       "\n",
       "    .dataframe thead th {\n",
       "        text-align: right;\n",
       "    }\n",
       "</style>\n",
       "<table border=\"1\" class=\"dataframe\">\n",
       "  <thead>\n",
       "    <tr style=\"text-align: right;\">\n",
       "      <th></th>\n",
       "      <th>name</th>\n",
       "      <th>online_order</th>\n",
       "      <th>book_table</th>\n",
       "      <th>rate</th>\n",
       "      <th>votes</th>\n",
       "      <th>phone</th>\n",
       "      <th>location</th>\n",
       "      <th>rest_type</th>\n",
       "      <th>dish_liked</th>\n",
       "      <th>cuisines</th>\n",
       "      <th>approx_cost(for two people)</th>\n",
       "      <th>reviews_list</th>\n",
       "      <th>listed_in(type)</th>\n",
       "    </tr>\n",
       "  </thead>\n",
       "  <tbody>\n",
       "    <tr>\n",
       "      <th>0</th>\n",
       "      <td>Jalsa</td>\n",
       "      <td>Yes</td>\n",
       "      <td>Yes</td>\n",
       "      <td>4.1/5</td>\n",
       "      <td>775</td>\n",
       "      <td>080 42297555\\r\\n+91 9743772233</td>\n",
       "      <td>Banashankari</td>\n",
       "      <td>Casual Dining</td>\n",
       "      <td>Pasta, Lunch Buffet, Masala Papad, Paneer Laja...</td>\n",
       "      <td>North Indian, Mughlai, Chinese</td>\n",
       "      <td>800</td>\n",
       "      <td>[('Rated 4.0', 'RATED\\n  A beautiful place to ...</td>\n",
       "      <td>Buffet</td>\n",
       "    </tr>\n",
       "    <tr>\n",
       "      <th>1</th>\n",
       "      <td>Spice Elephant</td>\n",
       "      <td>Yes</td>\n",
       "      <td>No</td>\n",
       "      <td>4.1/5</td>\n",
       "      <td>787</td>\n",
       "      <td>080 41714161</td>\n",
       "      <td>Banashankari</td>\n",
       "      <td>Casual Dining</td>\n",
       "      <td>Momos, Lunch Buffet, Chocolate Nirvana, Thai G...</td>\n",
       "      <td>Chinese, North Indian, Thai</td>\n",
       "      <td>800</td>\n",
       "      <td>[('Rated 4.0', 'RATED\\n  Had been here for din...</td>\n",
       "      <td>Buffet</td>\n",
       "    </tr>\n",
       "    <tr>\n",
       "      <th>2</th>\n",
       "      <td>San Churro Cafe</td>\n",
       "      <td>Yes</td>\n",
       "      <td>No</td>\n",
       "      <td>3.8/5</td>\n",
       "      <td>918</td>\n",
       "      <td>+91 9663487993</td>\n",
       "      <td>Banashankari</td>\n",
       "      <td>Cafe, Casual Dining</td>\n",
       "      <td>Churros, Cannelloni, Minestrone Soup, Hot Choc...</td>\n",
       "      <td>Cafe, Mexican, Italian</td>\n",
       "      <td>800</td>\n",
       "      <td>[('Rated 3.0', \"RATED\\n  Ambience is not that ...</td>\n",
       "      <td>Buffet</td>\n",
       "    </tr>\n",
       "    <tr>\n",
       "      <th>3</th>\n",
       "      <td>Addhuri Udupi Bhojana</td>\n",
       "      <td>No</td>\n",
       "      <td>No</td>\n",
       "      <td>3.7/5</td>\n",
       "      <td>88</td>\n",
       "      <td>+91 9620009302</td>\n",
       "      <td>Banashankari</td>\n",
       "      <td>Quick Bites</td>\n",
       "      <td>Masala Dosa</td>\n",
       "      <td>South Indian, North Indian</td>\n",
       "      <td>300</td>\n",
       "      <td>[('Rated 4.0', \"RATED\\n  Great food and proper...</td>\n",
       "      <td>Buffet</td>\n",
       "    </tr>\n",
       "    <tr>\n",
       "      <th>4</th>\n",
       "      <td>Grand Village</td>\n",
       "      <td>No</td>\n",
       "      <td>No</td>\n",
       "      <td>3.8/5</td>\n",
       "      <td>166</td>\n",
       "      <td>+91 8026612447\\r\\n+91 9901210005</td>\n",
       "      <td>Basavanagudi</td>\n",
       "      <td>Casual Dining</td>\n",
       "      <td>Panipuri, Gol Gappe</td>\n",
       "      <td>North Indian, Rajasthani</td>\n",
       "      <td>600</td>\n",
       "      <td>[('Rated 4.0', 'RATED\\n  Very good restaurant ...</td>\n",
       "      <td>Buffet</td>\n",
       "    </tr>\n",
       "  </tbody>\n",
       "</table>\n",
       "</div>"
      ],
      "text/plain": [
       "                    name online_order book_table   rate  votes  \\\n",
       "0                  Jalsa          Yes        Yes  4.1/5    775   \n",
       "1         Spice Elephant          Yes         No  4.1/5    787   \n",
       "2        San Churro Cafe          Yes         No  3.8/5    918   \n",
       "3  Addhuri Udupi Bhojana           No         No  3.7/5     88   \n",
       "4          Grand Village           No         No  3.8/5    166   \n",
       "\n",
       "                              phone      location            rest_type  \\\n",
       "0    080 42297555\\r\\n+91 9743772233  Banashankari        Casual Dining   \n",
       "1                      080 41714161  Banashankari        Casual Dining   \n",
       "2                    +91 9663487993  Banashankari  Cafe, Casual Dining   \n",
       "3                    +91 9620009302  Banashankari          Quick Bites   \n",
       "4  +91 8026612447\\r\\n+91 9901210005  Basavanagudi        Casual Dining   \n",
       "\n",
       "                                          dish_liked  \\\n",
       "0  Pasta, Lunch Buffet, Masala Papad, Paneer Laja...   \n",
       "1  Momos, Lunch Buffet, Chocolate Nirvana, Thai G...   \n",
       "2  Churros, Cannelloni, Minestrone Soup, Hot Choc...   \n",
       "3                                        Masala Dosa   \n",
       "4                                Panipuri, Gol Gappe   \n",
       "\n",
       "                         cuisines approx_cost(for two people)  \\\n",
       "0  North Indian, Mughlai, Chinese                         800   \n",
       "1     Chinese, North Indian, Thai                         800   \n",
       "2          Cafe, Mexican, Italian                         800   \n",
       "3      South Indian, North Indian                         300   \n",
       "4        North Indian, Rajasthani                         600   \n",
       "\n",
       "                                        reviews_list listed_in(type)  \n",
       "0  [('Rated 4.0', 'RATED\\n  A beautiful place to ...          Buffet  \n",
       "1  [('Rated 4.0', 'RATED\\n  Had been here for din...          Buffet  \n",
       "2  [('Rated 3.0', \"RATED\\n  Ambience is not that ...          Buffet  \n",
       "3  [('Rated 4.0', \"RATED\\n  Great food and proper...          Buffet  \n",
       "4  [('Rated 4.0', 'RATED\\n  Very good restaurant ...          Buffet  "
      ]
     },
     "execution_count": 13,
     "metadata": {},
     "output_type": "execute_result"
    }
   ],
   "source": [
    "final_df.head()"
   ]
  },
  {
   "cell_type": "code",
   "execution_count": 14,
   "id": "6d893d89",
   "metadata": {
    "execution": {
     "iopub.execute_input": "2024-02-06T17:51:53.330637Z",
     "iopub.status.busy": "2024-02-06T17:51:53.329594Z",
     "iopub.status.idle": "2024-02-06T17:51:53.405045Z",
     "shell.execute_reply": "2024-02-06T17:51:53.403851Z"
    },
    "papermill": {
     "duration": 0.097677,
     "end_time": "2024-02-06T17:51:53.407782",
     "exception": false,
     "start_time": "2024-02-06T17:51:53.310105",
     "status": "completed"
    },
    "tags": []
   },
   "outputs": [
    {
     "data": {
      "text/plain": [
       "name                               0\n",
       "online_order                       0\n",
       "book_table                         0\n",
       "rate                            7775\n",
       "votes                              0\n",
       "phone                           1208\n",
       "location                          21\n",
       "rest_type                        227\n",
       "dish_liked                     28078\n",
       "cuisines                          45\n",
       "approx_cost(for two people)      346\n",
       "reviews_list                       0\n",
       "listed_in(type)                    0\n",
       "dtype: int64"
      ]
     },
     "execution_count": 14,
     "metadata": {},
     "output_type": "execute_result"
    }
   ],
   "source": [
    "final_df.isnull().sum()"
   ]
  },
  {
   "cell_type": "code",
   "execution_count": 15,
   "id": "fc1fea37",
   "metadata": {
    "execution": {
     "iopub.execute_input": "2024-02-06T17:51:53.446833Z",
     "iopub.status.busy": "2024-02-06T17:51:53.446437Z",
     "iopub.status.idle": "2024-02-06T17:51:53.600538Z",
     "shell.execute_reply": "2024-02-06T17:51:53.599305Z"
    },
    "papermill": {
     "duration": 0.176825,
     "end_time": "2024-02-06T17:51:53.603172",
     "exception": false,
     "start_time": "2024-02-06T17:51:53.426347",
     "status": "completed"
    },
    "tags": []
   },
   "outputs": [],
   "source": [
    "final_df['rate']=final_df['rate'].str.split(\"/\").str[0]"
   ]
  },
  {
   "cell_type": "code",
   "execution_count": 16,
   "id": "8e71baa5",
   "metadata": {
    "execution": {
     "iopub.execute_input": "2024-02-06T17:51:53.643353Z",
     "iopub.status.busy": "2024-02-06T17:51:53.642935Z",
     "iopub.status.idle": "2024-02-06T17:51:53.662380Z",
     "shell.execute_reply": "2024-02-06T17:51:53.661306Z"
    },
    "papermill": {
     "duration": 0.042685,
     "end_time": "2024-02-06T17:51:53.664871",
     "exception": false,
     "start_time": "2024-02-06T17:51:53.622186",
     "status": "completed"
    },
    "tags": []
   },
   "outputs": [
    {
     "data": {
      "text/plain": [
       "rate\n",
       "NEW     2208\n",
       "3.9     2098\n",
       "3.8     2022\n",
       "3.7     2011\n",
       "3.9     1874\n",
       "        ... \n",
       "2.2        7\n",
       "2.0        7\n",
       "2.0        4\n",
       "1.8        3\n",
       "1.8        2\n",
       "Name: count, Length: 64, dtype: int64"
      ]
     },
     "execution_count": 16,
     "metadata": {},
     "output_type": "execute_result"
    }
   ],
   "source": [
    "final_df['rate'].value_counts()"
   ]
  },
  {
   "cell_type": "code",
   "execution_count": 17,
   "id": "35a53cb9",
   "metadata": {
    "execution": {
     "iopub.execute_input": "2024-02-06T17:51:53.705055Z",
     "iopub.status.busy": "2024-02-06T17:51:53.704634Z",
     "iopub.status.idle": "2024-02-06T17:51:53.775169Z",
     "shell.execute_reply": "2024-02-06T17:51:53.774126Z"
    },
    "papermill": {
     "duration": 0.093554,
     "end_time": "2024-02-06T17:51:53.777899",
     "exception": false,
     "start_time": "2024-02-06T17:51:53.684345",
     "status": "completed"
    },
    "tags": []
   },
   "outputs": [],
   "source": [
    "final_df['rate']=final_df['rate'].str.split(\" \").str[0]"
   ]
  },
  {
   "cell_type": "code",
   "execution_count": 18,
   "id": "1263852a",
   "metadata": {
    "execution": {
     "iopub.execute_input": "2024-02-06T17:51:53.817514Z",
     "iopub.status.busy": "2024-02-06T17:51:53.817136Z",
     "iopub.status.idle": "2024-02-06T17:51:53.835174Z",
     "shell.execute_reply": "2024-02-06T17:51:53.833912Z"
    },
    "papermill": {
     "duration": 0.041241,
     "end_time": "2024-02-06T17:51:53.837856",
     "exception": false,
     "start_time": "2024-02-06T17:51:53.796615",
     "status": "completed"
    },
    "tags": []
   },
   "outputs": [],
   "source": [
    "final_df['rate']=final_df['rate'].fillna(\"NEW\")"
   ]
  },
  {
   "cell_type": "code",
   "execution_count": 19,
   "id": "5dda1a9f",
   "metadata": {
    "execution": {
     "iopub.execute_input": "2024-02-06T17:51:53.881200Z",
     "iopub.status.busy": "2024-02-06T17:51:53.880260Z",
     "iopub.status.idle": "2024-02-06T17:51:53.899548Z",
     "shell.execute_reply": "2024-02-06T17:51:53.898553Z"
    },
    "papermill": {
     "duration": 0.042449,
     "end_time": "2024-02-06T17:51:53.902318",
     "exception": false,
     "start_time": "2024-02-06T17:51:53.859869",
     "status": "completed"
    },
    "tags": []
   },
   "outputs": [],
   "source": [
    "final_df['rate']=final_df['rate'].replace(\"NEW\",0)"
   ]
  },
  {
   "cell_type": "code",
   "execution_count": 20,
   "id": "87c87508",
   "metadata": {
    "execution": {
     "iopub.execute_input": "2024-02-06T17:51:53.944559Z",
     "iopub.status.busy": "2024-02-06T17:51:53.944151Z",
     "iopub.status.idle": "2024-02-06T17:51:53.963331Z",
     "shell.execute_reply": "2024-02-06T17:51:53.961988Z"
    },
    "papermill": {
     "duration": 0.045962,
     "end_time": "2024-02-06T17:51:53.966998",
     "exception": false,
     "start_time": "2024-02-06T17:51:53.921036",
     "status": "completed"
    },
    "tags": []
   },
   "outputs": [],
   "source": [
    "final_df['rate']=final_df['rate'].replace(\"-\",0)"
   ]
  },
  {
   "cell_type": "code",
   "execution_count": 21,
   "id": "2a8f6066",
   "metadata": {
    "execution": {
     "iopub.execute_input": "2024-02-06T17:51:54.017054Z",
     "iopub.status.busy": "2024-02-06T17:51:54.016618Z",
     "iopub.status.idle": "2024-02-06T17:51:54.032513Z",
     "shell.execute_reply": "2024-02-06T17:51:54.031489Z"
    },
    "papermill": {
     "duration": 0.044059,
     "end_time": "2024-02-06T17:51:54.035077",
     "exception": false,
     "start_time": "2024-02-06T17:51:53.991018",
     "status": "completed"
    },
    "tags": []
   },
   "outputs": [],
   "source": [
    "final_df['rate']=final_df['rate'].astype('float')"
   ]
  },
  {
   "cell_type": "code",
   "execution_count": 22,
   "id": "06476c6f",
   "metadata": {
    "execution": {
     "iopub.execute_input": "2024-02-06T17:51:54.137507Z",
     "iopub.status.busy": "2024-02-06T17:51:54.136373Z",
     "iopub.status.idle": "2024-02-06T17:51:54.144711Z",
     "shell.execute_reply": "2024-02-06T17:51:54.143489Z"
    },
    "papermill": {
     "duration": 0.093023,
     "end_time": "2024-02-06T17:51:54.147059",
     "exception": false,
     "start_time": "2024-02-06T17:51:54.054036",
     "status": "completed"
    },
    "tags": []
   },
   "outputs": [
    {
     "data": {
      "text/plain": [
       "2.9812092735464164"
      ]
     },
     "execution_count": 22,
     "metadata": {},
     "output_type": "execute_result"
    }
   ],
   "source": [
    "final_df['rate'].mean()"
   ]
  },
  {
   "cell_type": "code",
   "execution_count": 23,
   "id": "f40a67f4",
   "metadata": {
    "execution": {
     "iopub.execute_input": "2024-02-06T17:51:54.187448Z",
     "iopub.status.busy": "2024-02-06T17:51:54.186717Z",
     "iopub.status.idle": "2024-02-06T17:51:54.193409Z",
     "shell.execute_reply": "2024-02-06T17:51:54.192535Z"
    },
    "papermill": {
     "duration": 0.029825,
     "end_time": "2024-02-06T17:51:54.195935",
     "exception": false,
     "start_time": "2024-02-06T17:51:54.166110",
     "status": "completed"
    },
    "tags": []
   },
   "outputs": [],
   "source": [
    "final_df['rate']=final_df['rate'].replace(0,3.0)"
   ]
  },
  {
   "cell_type": "markdown",
   "id": "d9824342",
   "metadata": {
    "papermill": {
     "duration": 0.018663,
     "end_time": "2024-02-06T17:51:54.233765",
     "exception": false,
     "start_time": "2024-02-06T17:51:54.215102",
     "status": "completed"
    },
    "tags": []
   },
   "source": [
    "## The rate column is adjusted by taking the mean and replacing the null values with it."
   ]
  },
  {
   "cell_type": "code",
   "execution_count": 24,
   "id": "24b37f11",
   "metadata": {
    "execution": {
     "iopub.execute_input": "2024-02-06T17:51:54.275000Z",
     "iopub.status.busy": "2024-02-06T17:51:54.273873Z",
     "iopub.status.idle": "2024-02-06T17:51:54.348024Z",
     "shell.execute_reply": "2024-02-06T17:51:54.346393Z"
    },
    "papermill": {
     "duration": 0.097494,
     "end_time": "2024-02-06T17:51:54.350775",
     "exception": false,
     "start_time": "2024-02-06T17:51:54.253281",
     "status": "completed"
    },
    "tags": []
   },
   "outputs": [
    {
     "name": "stdout",
     "output_type": "stream",
     "text": [
      "<class 'pandas.core.frame.DataFrame'>\n",
      "RangeIndex: 51717 entries, 0 to 51716\n",
      "Data columns (total 13 columns):\n",
      " #   Column                       Non-Null Count  Dtype  \n",
      "---  ------                       --------------  -----  \n",
      " 0   name                         51717 non-null  object \n",
      " 1   online_order                 51717 non-null  object \n",
      " 2   book_table                   51717 non-null  object \n",
      " 3   rate                         51717 non-null  float64\n",
      " 4   votes                        51717 non-null  int64  \n",
      " 5   phone                        50509 non-null  object \n",
      " 6   location                     51696 non-null  object \n",
      " 7   rest_type                    51490 non-null  object \n",
      " 8   dish_liked                   23639 non-null  object \n",
      " 9   cuisines                     51672 non-null  object \n",
      " 10  approx_cost(for two people)  51371 non-null  object \n",
      " 11  reviews_list                 51717 non-null  object \n",
      " 12  listed_in(type)              51717 non-null  object \n",
      "dtypes: float64(1), int64(1), object(11)\n",
      "memory usage: 5.1+ MB\n"
     ]
    }
   ],
   "source": [
    "final_df.info()"
   ]
  },
  {
   "cell_type": "code",
   "execution_count": 25,
   "id": "9421d4c1",
   "metadata": {
    "execution": {
     "iopub.execute_input": "2024-02-06T17:51:54.391587Z",
     "iopub.status.busy": "2024-02-06T17:51:54.391157Z",
     "iopub.status.idle": "2024-02-06T17:51:54.405573Z",
     "shell.execute_reply": "2024-02-06T17:51:54.404468Z"
    },
    "papermill": {
     "duration": 0.038117,
     "end_time": "2024-02-06T17:51:54.408304",
     "exception": false,
     "start_time": "2024-02-06T17:51:54.370187",
     "status": "completed"
    },
    "tags": []
   },
   "outputs": [],
   "source": [
    "final_df=final_df.drop(['phone'],axis=1)"
   ]
  },
  {
   "cell_type": "markdown",
   "id": "348a400e",
   "metadata": {
    "papermill": {
     "duration": 0.018892,
     "end_time": "2024-02-06T17:51:54.446405",
     "exception": false,
     "start_time": "2024-02-06T17:51:54.427513",
     "status": "completed"
    },
    "tags": []
   },
   "source": [
    "## The final dataset contains all the columns EXCEPT menu_item,listed_in(city), url, address columns,phone"
   ]
  },
  {
   "cell_type": "code",
   "execution_count": 26,
   "id": "fc20c5c6",
   "metadata": {
    "execution": {
     "iopub.execute_input": "2024-02-06T17:51:54.486417Z",
     "iopub.status.busy": "2024-02-06T17:51:54.486026Z",
     "iopub.status.idle": "2024-02-06T17:51:54.553789Z",
     "shell.execute_reply": "2024-02-06T17:51:54.552181Z"
    },
    "papermill": {
     "duration": 0.091013,
     "end_time": "2024-02-06T17:51:54.556539",
     "exception": false,
     "start_time": "2024-02-06T17:51:54.465526",
     "status": "completed"
    },
    "tags": []
   },
   "outputs": [
    {
     "name": "stdout",
     "output_type": "stream",
     "text": [
      "<class 'pandas.core.frame.DataFrame'>\n",
      "RangeIndex: 51717 entries, 0 to 51716\n",
      "Data columns (total 12 columns):\n",
      " #   Column                       Non-Null Count  Dtype  \n",
      "---  ------                       --------------  -----  \n",
      " 0   name                         51717 non-null  object \n",
      " 1   online_order                 51717 non-null  object \n",
      " 2   book_table                   51717 non-null  object \n",
      " 3   rate                         51717 non-null  float64\n",
      " 4   votes                        51717 non-null  int64  \n",
      " 5   location                     51696 non-null  object \n",
      " 6   rest_type                    51490 non-null  object \n",
      " 7   dish_liked                   23639 non-null  object \n",
      " 8   cuisines                     51672 non-null  object \n",
      " 9   approx_cost(for two people)  51371 non-null  object \n",
      " 10  reviews_list                 51717 non-null  object \n",
      " 11  listed_in(type)              51717 non-null  object \n",
      "dtypes: float64(1), int64(1), object(10)\n",
      "memory usage: 4.7+ MB\n"
     ]
    }
   ],
   "source": [
    "final_df.info()"
   ]
  },
  {
   "cell_type": "code",
   "execution_count": 27,
   "id": "a0686e7c",
   "metadata": {
    "execution": {
     "iopub.execute_input": "2024-02-06T17:51:54.598661Z",
     "iopub.status.busy": "2024-02-06T17:51:54.598253Z",
     "iopub.status.idle": "2024-02-06T17:51:54.609868Z",
     "shell.execute_reply": "2024-02-06T17:51:54.608622Z"
    },
    "papermill": {
     "duration": 0.035372,
     "end_time": "2024-02-06T17:51:54.612220",
     "exception": false,
     "start_time": "2024-02-06T17:51:54.576848",
     "status": "completed"
    },
    "tags": []
   },
   "outputs": [
    {
     "data": {
      "text/plain": [
       "7"
      ]
     },
     "execution_count": 27,
     "metadata": {},
     "output_type": "execute_result"
    }
   ],
   "source": [
    "final_df['listed_in(type)'].nunique()"
   ]
  },
  {
   "cell_type": "code",
   "execution_count": 28,
   "id": "4088964f",
   "metadata": {
    "execution": {
     "iopub.execute_input": "2024-02-06T17:51:54.652640Z",
     "iopub.status.busy": "2024-02-06T17:51:54.652287Z",
     "iopub.status.idle": "2024-02-06T17:51:54.680538Z",
     "shell.execute_reply": "2024-02-06T17:51:54.679387Z"
    },
    "papermill": {
     "duration": 0.052041,
     "end_time": "2024-02-06T17:51:54.683599",
     "exception": false,
     "start_time": "2024-02-06T17:51:54.631558",
     "status": "completed"
    },
    "tags": []
   },
   "outputs": [],
   "source": [
    "final_df['approx_cost(for two people)']=final_df['approx_cost(for two people)'].str.replace(\",\",\"\")"
   ]
  },
  {
   "cell_type": "code",
   "execution_count": 29,
   "id": "305deb75",
   "metadata": {
    "execution": {
     "iopub.execute_input": "2024-02-06T17:51:54.724534Z",
     "iopub.status.busy": "2024-02-06T17:51:54.724163Z",
     "iopub.status.idle": "2024-02-06T17:51:54.737736Z",
     "shell.execute_reply": "2024-02-06T17:51:54.736609Z"
    },
    "papermill": {
     "duration": 0.037069,
     "end_time": "2024-02-06T17:51:54.740298",
     "exception": false,
     "start_time": "2024-02-06T17:51:54.703229",
     "status": "completed"
    },
    "tags": []
   },
   "outputs": [],
   "source": [
    "final_df['approx_cost(for two people)']=final_df['approx_cost(for two people)'].fillna(0)"
   ]
  },
  {
   "cell_type": "code",
   "execution_count": 30,
   "id": "695d3664",
   "metadata": {
    "execution": {
     "iopub.execute_input": "2024-02-06T17:51:54.781386Z",
     "iopub.status.busy": "2024-02-06T17:51:54.781017Z",
     "iopub.status.idle": "2024-02-06T17:51:54.794873Z",
     "shell.execute_reply": "2024-02-06T17:51:54.793892Z"
    },
    "papermill": {
     "duration": 0.037292,
     "end_time": "2024-02-06T17:51:54.797459",
     "exception": false,
     "start_time": "2024-02-06T17:51:54.760167",
     "status": "completed"
    },
    "tags": []
   },
   "outputs": [],
   "source": [
    "final_df['approx_cost(for two people)']=final_df['approx_cost(for two people)'].astype('int')"
   ]
  },
  {
   "cell_type": "code",
   "execution_count": 31,
   "id": "fe59938f",
   "metadata": {
    "execution": {
     "iopub.execute_input": "2024-02-06T17:51:54.839492Z",
     "iopub.status.busy": "2024-02-06T17:51:54.838844Z",
     "iopub.status.idle": "2024-02-06T17:51:54.846465Z",
     "shell.execute_reply": "2024-02-06T17:51:54.845423Z"
    },
    "papermill": {
     "duration": 0.031468,
     "end_time": "2024-02-06T17:51:54.848907",
     "exception": false,
     "start_time": "2024-02-06T17:51:54.817439",
     "status": "completed"
    },
    "tags": []
   },
   "outputs": [
    {
     "data": {
      "text/plain": [
       "551.7155867509716"
      ]
     },
     "execution_count": 31,
     "metadata": {},
     "output_type": "execute_result"
    }
   ],
   "source": [
    "final_df['approx_cost(for two people)'].mean()"
   ]
  },
  {
   "cell_type": "code",
   "execution_count": 32,
   "id": "abd074ef",
   "metadata": {
    "execution": {
     "iopub.execute_input": "2024-02-06T17:51:54.890914Z",
     "iopub.status.busy": "2024-02-06T17:51:54.890552Z",
     "iopub.status.idle": "2024-02-06T17:51:54.901072Z",
     "shell.execute_reply": "2024-02-06T17:51:54.899882Z"
    },
    "papermill": {
     "duration": 0.034326,
     "end_time": "2024-02-06T17:51:54.903703",
     "exception": false,
     "start_time": "2024-02-06T17:51:54.869377",
     "status": "completed"
    },
    "tags": []
   },
   "outputs": [
    {
     "data": {
      "text/plain": [
       "approx_cost(for two people)\n",
       "300     7576\n",
       "400     6562\n",
       "500     4980\n",
       "200     4857\n",
       "600     3714\n",
       "        ... \n",
       "60         1\n",
       "5000       1\n",
       "3700       1\n",
       "469        1\n",
       "160        1\n",
       "Name: count, Length: 71, dtype: int64"
      ]
     },
     "execution_count": 32,
     "metadata": {},
     "output_type": "execute_result"
    }
   ],
   "source": [
    "final_df['approx_cost(for two people)'].value_counts()"
   ]
  },
  {
   "cell_type": "code",
   "execution_count": 33,
   "id": "00b09b90",
   "metadata": {
    "execution": {
     "iopub.execute_input": "2024-02-06T17:51:54.946760Z",
     "iopub.status.busy": "2024-02-06T17:51:54.946364Z",
     "iopub.status.idle": "2024-02-06T17:51:54.952739Z",
     "shell.execute_reply": "2024-02-06T17:51:54.951636Z"
    },
    "papermill": {
     "duration": 0.031814,
     "end_time": "2024-02-06T17:51:54.955217",
     "exception": false,
     "start_time": "2024-02-06T17:51:54.923403",
     "status": "completed"
    },
    "tags": []
   },
   "outputs": [],
   "source": [
    "final_df['approx_cost(for two people)']=final_df['approx_cost(for two people)'].replace(0,552)"
   ]
  },
  {
   "cell_type": "markdown",
   "id": "3b7379c4",
   "metadata": {
    "papermill": {
     "duration": 0.019487,
     "end_time": "2024-02-06T17:51:54.994548",
     "exception": false,
     "start_time": "2024-02-06T17:51:54.975061",
     "status": "completed"
    },
    "tags": []
   },
   "source": [
    "## Approx cost(for two people) column is adjusted by taking the mean of the whole column and replacing the null values with it/"
   ]
  },
  {
   "cell_type": "code",
   "execution_count": 34,
   "id": "871bf4ab",
   "metadata": {
    "execution": {
     "iopub.execute_input": "2024-02-06T17:51:55.035753Z",
     "iopub.status.busy": "2024-02-06T17:51:55.035384Z",
     "iopub.status.idle": "2024-02-06T17:51:55.095083Z",
     "shell.execute_reply": "2024-02-06T17:51:55.093958Z"
    },
    "papermill": {
     "duration": 0.08316,
     "end_time": "2024-02-06T17:51:55.097544",
     "exception": false,
     "start_time": "2024-02-06T17:51:55.014384",
     "status": "completed"
    },
    "tags": []
   },
   "outputs": [
    {
     "data": {
      "text/plain": [
       "name                               0\n",
       "online_order                       0\n",
       "book_table                         0\n",
       "rate                               0\n",
       "votes                              0\n",
       "location                          21\n",
       "rest_type                        227\n",
       "dish_liked                     28078\n",
       "cuisines                          45\n",
       "approx_cost(for two people)        0\n",
       "reviews_list                       0\n",
       "listed_in(type)                    0\n",
       "dtype: int64"
      ]
     },
     "execution_count": 34,
     "metadata": {},
     "output_type": "execute_result"
    }
   ],
   "source": [
    "final_df.isnull().sum()"
   ]
  },
  {
   "cell_type": "code",
   "execution_count": 35,
   "id": "5947517f",
   "metadata": {
    "execution": {
     "iopub.execute_input": "2024-02-06T17:51:55.140455Z",
     "iopub.status.busy": "2024-02-06T17:51:55.139605Z",
     "iopub.status.idle": "2024-02-06T17:51:55.154891Z",
     "shell.execute_reply": "2024-02-06T17:51:55.153788Z"
    },
    "papermill": {
     "duration": 0.039123,
     "end_time": "2024-02-06T17:51:55.157509",
     "exception": false,
     "start_time": "2024-02-06T17:51:55.118386",
     "status": "completed"
    },
    "tags": []
   },
   "outputs": [],
   "source": [
    "final_df['location']=final_df['location'].replace('nan','BTM')"
   ]
  },
  {
   "cell_type": "code",
   "execution_count": 36,
   "id": "08e36b9f",
   "metadata": {
    "execution": {
     "iopub.execute_input": "2024-02-06T17:51:55.199288Z",
     "iopub.status.busy": "2024-02-06T17:51:55.198892Z",
     "iopub.status.idle": "2024-02-06T17:51:55.216928Z",
     "shell.execute_reply": "2024-02-06T17:51:55.215771Z"
    },
    "papermill": {
     "duration": 0.042176,
     "end_time": "2024-02-06T17:51:55.219564",
     "exception": false,
     "start_time": "2024-02-06T17:51:55.177388",
     "status": "completed"
    },
    "tags": []
   },
   "outputs": [
    {
     "data": {
      "text/plain": [
       "location\n",
       "BTM                      5124\n",
       "HSR                      2523\n",
       "Koramangala 5th Block    2504\n",
       "JP Nagar                 2235\n",
       "Whitefield               2144\n",
       "                         ... \n",
       "West Bangalore              6\n",
       "Yelahanka                   6\n",
       "Jakkur                      3\n",
       "Rajarajeshwari Nagar        2\n",
       "Peenya                      1\n",
       "Name: count, Length: 93, dtype: int64"
      ]
     },
     "execution_count": 36,
     "metadata": {},
     "output_type": "execute_result"
    }
   ],
   "source": [
    "final_df['location'].value_counts()"
   ]
  },
  {
   "cell_type": "code",
   "execution_count": 37,
   "id": "70c1b939",
   "metadata": {
    "execution": {
     "iopub.execute_input": "2024-02-06T17:51:55.262237Z",
     "iopub.status.busy": "2024-02-06T17:51:55.261836Z",
     "iopub.status.idle": "2024-02-06T17:51:55.279829Z",
     "shell.execute_reply": "2024-02-06T17:51:55.278998Z"
    },
    "papermill": {
     "duration": 0.041502,
     "end_time": "2024-02-06T17:51:55.282106",
     "exception": false,
     "start_time": "2024-02-06T17:51:55.240604",
     "status": "completed"
    },
    "tags": []
   },
   "outputs": [
    {
     "data": {
      "text/plain": [
       "rest_type\n",
       "Quick Bites                   19132\n",
       "Casual Dining                 10330\n",
       "Cafe                           3732\n",
       "Delivery                       2604\n",
       "Dessert Parlor                 2263\n",
       "                              ...  \n",
       "Dessert Parlor, Kiosk             2\n",
       "Food Court, Beverage Shop         2\n",
       "Dessert Parlor, Food Court        2\n",
       "Sweet Shop, Dessert Parlor        1\n",
       "Quick Bites, Kiosk                1\n",
       "Name: count, Length: 93, dtype: int64"
      ]
     },
     "execution_count": 37,
     "metadata": {},
     "output_type": "execute_result"
    }
   ],
   "source": [
    "final_df['rest_type'].value_counts()"
   ]
  },
  {
   "cell_type": "code",
   "execution_count": 38,
   "id": "7b0dc098",
   "metadata": {
    "execution": {
     "iopub.execute_input": "2024-02-06T17:51:55.326056Z",
     "iopub.status.busy": "2024-02-06T17:51:55.325316Z",
     "iopub.status.idle": "2024-02-06T17:51:55.338071Z",
     "shell.execute_reply": "2024-02-06T17:51:55.337160Z"
    },
    "papermill": {
     "duration": 0.038263,
     "end_time": "2024-02-06T17:51:55.340624",
     "exception": false,
     "start_time": "2024-02-06T17:51:55.302361",
     "status": "completed"
    },
    "tags": []
   },
   "outputs": [],
   "source": [
    "final_df['rest_type']=final_df['rest_type'].fillna(\"Quick Bites\")"
   ]
  },
  {
   "cell_type": "code",
   "execution_count": 39,
   "id": "2000ebd0",
   "metadata": {
    "execution": {
     "iopub.execute_input": "2024-02-06T17:51:55.383181Z",
     "iopub.status.busy": "2024-02-06T17:51:55.382480Z",
     "iopub.status.idle": "2024-02-06T17:51:55.400275Z",
     "shell.execute_reply": "2024-02-06T17:51:55.399259Z"
    },
    "papermill": {
     "duration": 0.041752,
     "end_time": "2024-02-06T17:51:55.402639",
     "exception": false,
     "start_time": "2024-02-06T17:51:55.360887",
     "status": "completed"
    },
    "tags": []
   },
   "outputs": [
    {
     "data": {
      "text/plain": [
       "cuisines\n",
       "North Indian                                   2913\n",
       "North Indian, Chinese                          2385\n",
       "South Indian                                   1828\n",
       "Biryani                                         918\n",
       "Bakery, Desserts                                911\n",
       "                                               ... \n",
       "North Indian, Chinese, South Indian, Juices       1\n",
       "North Indian, Chinese, Kebab, Mughlai             1\n",
       "Chinese, Vietnamese, Thai, Malaysian              1\n",
       "Arabian, Lebanese, Chinese, Rolls                 1\n",
       "North Indian, Chinese, Arabian, Momos             1\n",
       "Name: count, Length: 2723, dtype: int64"
      ]
     },
     "execution_count": 39,
     "metadata": {},
     "output_type": "execute_result"
    }
   ],
   "source": [
    "final_df['cuisines'].value_counts()"
   ]
  },
  {
   "cell_type": "code",
   "execution_count": 40,
   "id": "b98f245f",
   "metadata": {
    "execution": {
     "iopub.execute_input": "2024-02-06T17:51:55.445869Z",
     "iopub.status.busy": "2024-02-06T17:51:55.445086Z",
     "iopub.status.idle": "2024-02-06T17:51:55.458518Z",
     "shell.execute_reply": "2024-02-06T17:51:55.457342Z"
    },
    "papermill": {
     "duration": 0.038231,
     "end_time": "2024-02-06T17:51:55.461362",
     "exception": false,
     "start_time": "2024-02-06T17:51:55.423131",
     "status": "completed"
    },
    "tags": []
   },
   "outputs": [],
   "source": [
    "final_df['cuisines']=final_df['cuisines'].fillna(\"North Indian\")"
   ]
  },
  {
   "cell_type": "code",
   "execution_count": 41,
   "id": "0801677b",
   "metadata": {
    "execution": {
     "iopub.execute_input": "2024-02-06T17:51:55.505310Z",
     "iopub.status.busy": "2024-02-06T17:51:55.504893Z",
     "iopub.status.idle": "2024-02-06T17:51:55.518683Z",
     "shell.execute_reply": "2024-02-06T17:51:55.517690Z"
    },
    "papermill": {
     "duration": 0.038165,
     "end_time": "2024-02-06T17:51:55.521241",
     "exception": false,
     "start_time": "2024-02-06T17:51:55.483076",
     "status": "completed"
    },
    "tags": []
   },
   "outputs": [],
   "source": [
    "final_df['location']=final_df['location'].fillna(\"BTM\")"
   ]
  },
  {
   "cell_type": "code",
   "execution_count": 42,
   "id": "ca080523",
   "metadata": {
    "execution": {
     "iopub.execute_input": "2024-02-06T17:51:55.564595Z",
     "iopub.status.busy": "2024-02-06T17:51:55.563839Z",
     "iopub.status.idle": "2024-02-06T17:51:55.624730Z",
     "shell.execute_reply": "2024-02-06T17:51:55.623699Z"
    },
    "papermill": {
     "duration": 0.085513,
     "end_time": "2024-02-06T17:51:55.627075",
     "exception": false,
     "start_time": "2024-02-06T17:51:55.541562",
     "status": "completed"
    },
    "tags": []
   },
   "outputs": [
    {
     "data": {
      "text/plain": [
       "name                               0\n",
       "online_order                       0\n",
       "book_table                         0\n",
       "rate                               0\n",
       "votes                              0\n",
       "location                           0\n",
       "rest_type                          0\n",
       "dish_liked                     28078\n",
       "cuisines                           0\n",
       "approx_cost(for two people)        0\n",
       "reviews_list                       0\n",
       "listed_in(type)                    0\n",
       "dtype: int64"
      ]
     },
     "execution_count": 42,
     "metadata": {},
     "output_type": "execute_result"
    }
   ],
   "source": [
    "final_df.isnull().sum()"
   ]
  },
  {
   "cell_type": "code",
   "execution_count": 43,
   "id": "0ee8cc6e",
   "metadata": {
    "execution": {
     "iopub.execute_input": "2024-02-06T17:51:55.670303Z",
     "iopub.status.busy": "2024-02-06T17:51:55.669574Z",
     "iopub.status.idle": "2024-02-06T17:51:55.684116Z",
     "shell.execute_reply": "2024-02-06T17:51:55.683097Z"
    },
    "papermill": {
     "duration": 0.039205,
     "end_time": "2024-02-06T17:51:55.686848",
     "exception": false,
     "start_time": "2024-02-06T17:51:55.647643",
     "status": "completed"
    },
    "tags": []
   },
   "outputs": [],
   "source": [
    "final_df=final_df.drop(['reviews_list'],axis=1)"
   ]
  },
  {
   "cell_type": "code",
   "execution_count": 44,
   "id": "9daf55f8",
   "metadata": {
    "execution": {
     "iopub.execute_input": "2024-02-06T17:51:55.730699Z",
     "iopub.status.busy": "2024-02-06T17:51:55.730041Z",
     "iopub.status.idle": "2024-02-06T17:51:55.742828Z",
     "shell.execute_reply": "2024-02-06T17:51:55.741997Z"
    },
    "papermill": {
     "duration": 0.037483,
     "end_time": "2024-02-06T17:51:55.745299",
     "exception": false,
     "start_time": "2024-02-06T17:51:55.707816",
     "status": "completed"
    },
    "tags": []
   },
   "outputs": [],
   "source": [
    "final_df['online_order']=final_df['online_order'].map({\"Yes\":1,\"No\":0})"
   ]
  },
  {
   "cell_type": "code",
   "execution_count": 45,
   "id": "37efe028",
   "metadata": {
    "execution": {
     "iopub.execute_input": "2024-02-06T17:51:55.789348Z",
     "iopub.status.busy": "2024-02-06T17:51:55.788623Z",
     "iopub.status.idle": "2024-02-06T17:51:55.844150Z",
     "shell.execute_reply": "2024-02-06T17:51:55.842211Z"
    },
    "papermill": {
     "duration": 0.080585,
     "end_time": "2024-02-06T17:51:55.846827",
     "exception": false,
     "start_time": "2024-02-06T17:51:55.766242",
     "status": "completed"
    },
    "tags": []
   },
   "outputs": [
    {
     "name": "stdout",
     "output_type": "stream",
     "text": [
      "<class 'pandas.core.frame.DataFrame'>\n",
      "RangeIndex: 51717 entries, 0 to 51716\n",
      "Data columns (total 11 columns):\n",
      " #   Column                       Non-Null Count  Dtype  \n",
      "---  ------                       --------------  -----  \n",
      " 0   name                         51717 non-null  object \n",
      " 1   online_order                 51717 non-null  int64  \n",
      " 2   book_table                   51717 non-null  object \n",
      " 3   rate                         51717 non-null  float64\n",
      " 4   votes                        51717 non-null  int64  \n",
      " 5   location                     51717 non-null  object \n",
      " 6   rest_type                    51717 non-null  object \n",
      " 7   dish_liked                   23639 non-null  object \n",
      " 8   cuisines                     51717 non-null  object \n",
      " 9   approx_cost(for two people)  51717 non-null  int64  \n",
      " 10  listed_in(type)              51717 non-null  object \n",
      "dtypes: float64(1), int64(3), object(7)\n",
      "memory usage: 4.3+ MB\n"
     ]
    }
   ],
   "source": [
    "final_df.info()"
   ]
  },
  {
   "cell_type": "code",
   "execution_count": 46,
   "id": "a887b360",
   "metadata": {
    "execution": {
     "iopub.execute_input": "2024-02-06T17:51:55.890505Z",
     "iopub.status.busy": "2024-02-06T17:51:55.890085Z",
     "iopub.status.idle": "2024-02-06T17:51:55.903529Z",
     "shell.execute_reply": "2024-02-06T17:51:55.902652Z"
    },
    "papermill": {
     "duration": 0.037893,
     "end_time": "2024-02-06T17:51:55.905925",
     "exception": false,
     "start_time": "2024-02-06T17:51:55.868032",
     "status": "completed"
    },
    "tags": []
   },
   "outputs": [],
   "source": [
    "final_df['book_table']=final_df['book_table'].map({\"Yes\":1,\"No\":0})"
   ]
  },
  {
   "cell_type": "code",
   "execution_count": 47,
   "id": "a1dbcb24",
   "metadata": {
    "execution": {
     "iopub.execute_input": "2024-02-06T17:51:55.952083Z",
     "iopub.status.busy": "2024-02-06T17:51:55.951356Z",
     "iopub.status.idle": "2024-02-06T17:51:55.962829Z",
     "shell.execute_reply": "2024-02-06T17:51:55.962021Z"
    },
    "papermill": {
     "duration": 0.03811,
     "end_time": "2024-02-06T17:51:55.965357",
     "exception": false,
     "start_time": "2024-02-06T17:51:55.927247",
     "status": "completed"
    },
    "tags": []
   },
   "outputs": [
    {
     "data": {
      "text/plain": [
       "93"
      ]
     },
     "execution_count": 47,
     "metadata": {},
     "output_type": "execute_result"
    }
   ],
   "source": [
    "final_df['location'].nunique()"
   ]
  },
  {
   "cell_type": "code",
   "execution_count": 48,
   "id": "9d39405a",
   "metadata": {
    "execution": {
     "iopub.execute_input": "2024-02-06T17:51:56.009623Z",
     "iopub.status.busy": "2024-02-06T17:51:56.009218Z",
     "iopub.status.idle": "2024-02-06T17:51:56.248422Z",
     "shell.execute_reply": "2024-02-06T17:51:56.247435Z"
    },
    "papermill": {
     "duration": 0.26484,
     "end_time": "2024-02-06T17:51:56.251139",
     "exception": false,
     "start_time": "2024-02-06T17:51:55.986299",
     "status": "completed"
    },
    "tags": []
   },
   "outputs": [],
   "source": [
    "from sklearn.preprocessing import LabelEncoder\n",
    "label_encoder = LabelEncoder()\n",
    "final_df['location'] = label_encoder.fit_transform(final_df['location'])"
   ]
  },
  {
   "cell_type": "code",
   "execution_count": 49,
   "id": "91f53120",
   "metadata": {
    "execution": {
     "iopub.execute_input": "2024-02-06T17:51:56.294496Z",
     "iopub.status.busy": "2024-02-06T17:51:56.294109Z",
     "iopub.status.idle": "2024-02-06T17:51:56.315174Z",
     "shell.execute_reply": "2024-02-06T17:51:56.314237Z"
    },
    "papermill": {
     "duration": 0.046016,
     "end_time": "2024-02-06T17:51:56.317868",
     "exception": false,
     "start_time": "2024-02-06T17:51:56.271852",
     "status": "completed"
    },
    "tags": []
   },
   "outputs": [],
   "source": [
    "final_df['rest_type'] = label_encoder.fit_transform(final_df['rest_type'])"
   ]
  },
  {
   "cell_type": "code",
   "execution_count": 50,
   "id": "dbb43aed",
   "metadata": {
    "execution": {
     "iopub.execute_input": "2024-02-06T17:51:56.361486Z",
     "iopub.status.busy": "2024-02-06T17:51:56.361055Z",
     "iopub.status.idle": "2024-02-06T17:51:56.382341Z",
     "shell.execute_reply": "2024-02-06T17:51:56.381296Z"
    },
    "papermill": {
     "duration": 0.046102,
     "end_time": "2024-02-06T17:51:56.384707",
     "exception": false,
     "start_time": "2024-02-06T17:51:56.338605",
     "status": "completed"
    },
    "tags": []
   },
   "outputs": [],
   "source": [
    "final_df['listed_in(type)'] = label_encoder.fit_transform(final_df['listed_in(type)'])"
   ]
  },
  {
   "cell_type": "code",
   "execution_count": 51,
   "id": "fc0a4249",
   "metadata": {
    "execution": {
     "iopub.execute_input": "2024-02-06T17:51:56.427921Z",
     "iopub.status.busy": "2024-02-06T17:51:56.427522Z",
     "iopub.status.idle": "2024-02-06T17:51:56.456251Z",
     "shell.execute_reply": "2024-02-06T17:51:56.454884Z"
    },
    "papermill": {
     "duration": 0.05342,
     "end_time": "2024-02-06T17:51:56.458933",
     "exception": false,
     "start_time": "2024-02-06T17:51:56.405513",
     "status": "completed"
    },
    "tags": []
   },
   "outputs": [
    {
     "name": "stdout",
     "output_type": "stream",
     "text": [
      "<class 'pandas.core.frame.DataFrame'>\n",
      "RangeIndex: 51717 entries, 0 to 51716\n",
      "Data columns (total 11 columns):\n",
      " #   Column                       Non-Null Count  Dtype  \n",
      "---  ------                       --------------  -----  \n",
      " 0   name                         51717 non-null  object \n",
      " 1   online_order                 51717 non-null  int64  \n",
      " 2   book_table                   51717 non-null  int64  \n",
      " 3   rate                         51717 non-null  float64\n",
      " 4   votes                        51717 non-null  int64  \n",
      " 5   location                     51717 non-null  int64  \n",
      " 6   rest_type                    51717 non-null  int64  \n",
      " 7   dish_liked                   23639 non-null  object \n",
      " 8   cuisines                     51717 non-null  object \n",
      " 9   approx_cost(for two people)  51717 non-null  int64  \n",
      " 10  listed_in(type)              51717 non-null  int64  \n",
      "dtypes: float64(1), int64(7), object(3)\n",
      "memory usage: 4.3+ MB\n"
     ]
    }
   ],
   "source": [
    "final_df.info()"
   ]
  },
  {
   "cell_type": "code",
   "execution_count": null,
   "id": "792c3eef",
   "metadata": {
    "papermill": {
     "duration": 0.021043,
     "end_time": "2024-02-06T17:51:56.501527",
     "exception": false,
     "start_time": "2024-02-06T17:51:56.480484",
     "status": "completed"
    },
    "tags": []
   },
   "outputs": [],
   "source": []
  }
 ],
 "metadata": {
  "kaggle": {
   "accelerator": "none",
   "dataSources": [
    {
     "datasetId": 153420,
     "sourceId": 352891,
     "sourceType": "datasetVersion"
    }
   ],
   "dockerImageVersionId": 30646,
   "isGpuEnabled": false,
   "isInternetEnabled": true,
   "language": "python",
   "sourceType": "notebook"
  },
  "kernelspec": {
   "display_name": "Python 3",
   "language": "python",
   "name": "python3"
  },
  "language_info": {
   "codemirror_mode": {
    "name": "ipython",
    "version": 3
   },
   "file_extension": ".py",
   "mimetype": "text/x-python",
   "name": "python",
   "nbconvert_exporter": "python",
   "pygments_lexer": "ipython3",
   "version": "3.10.13"
  },
  "papermill": {
   "default_parameters": {},
   "duration": 22.78402,
   "end_time": "2024-02-06T17:51:57.244090",
   "environment_variables": {},
   "exception": null,
   "input_path": "__notebook__.ipynb",
   "output_path": "__notebook__.ipynb",
   "parameters": {},
   "start_time": "2024-02-06T17:51:34.460070",
   "version": "2.5.0"
  }
 },
 "nbformat": 4,
 "nbformat_minor": 5
}
