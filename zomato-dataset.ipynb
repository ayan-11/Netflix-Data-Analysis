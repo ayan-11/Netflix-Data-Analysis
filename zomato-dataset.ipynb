{
 "cells": [
  {
   "cell_type": "code",
   "execution_count": 1,
   "id": "290afedc",
   "metadata": {
    "_cell_guid": "b1076dfc-b9ad-4769-8c92-a6c4dae69d19",
    "_uuid": "8f2839f25d086af736a60e9eeb907d3b93b6e0e5",
    "execution": {
     "iopub.execute_input": "2024-02-06T14:24:35.741795Z",
     "iopub.status.busy": "2024-02-06T14:24:35.741127Z",
     "iopub.status.idle": "2024-02-06T14:24:36.872069Z",
     "shell.execute_reply": "2024-02-06T14:24:36.870881Z"
    },
    "papermill": {
     "duration": 1.148402,
     "end_time": "2024-02-06T14:24:36.874640",
     "exception": false,
     "start_time": "2024-02-06T14:24:35.726238",
     "status": "completed"
    },
    "tags": []
   },
   "outputs": [
    {
     "name": "stdout",
     "output_type": "stream",
     "text": [
      "/kaggle/input/zomato-bangalore-restaurants/zomato.csv\n"
     ]
    }
   ],
   "source": [
    "# This Python 3 environment comes with many helpful analytics libraries installed\n",
    "# It is defined by the kaggle/python Docker image: https://github.com/kaggle/docker-python\n",
    "# For example, here's several helpful packages to load\n",
    "\n",
    "import numpy as np # linear algebra\n",
    "import pandas as pd # data processing, CSV file I/O (e.g. pd.read_csv)\n",
    "\n",
    "# Input data files are available in the read-only \"../input/\" directory\n",
    "# For example, running this (by clicking run or pressing Shift+Enter) will list all files under the input directory\n",
    "\n",
    "import os\n",
    "for dirname, _, filenames in os.walk('/kaggle/input'):\n",
    "    for filename in filenames:\n",
    "        print(os.path.join(dirname, filename))\n",
    "\n",
    "# You can write up to 20GB to the current directory (/kaggle/working/) that gets preserved as output when you create a version using \"Save & Run All\" \n",
    "# You can also write temporary files to /kaggle/temp/, but they won't be saved outside of the current session"
   ]
  },
  {
   "cell_type": "code",
   "execution_count": 2,
   "id": "9b1b69a8",
   "metadata": {
    "execution": {
     "iopub.execute_input": "2024-02-06T14:24:36.901025Z",
     "iopub.status.busy": "2024-02-06T14:24:36.900199Z",
     "iopub.status.idle": "2024-02-06T14:24:38.627245Z",
     "shell.execute_reply": "2024-02-06T14:24:38.626206Z"
    },
    "papermill": {
     "duration": 1.743137,
     "end_time": "2024-02-06T14:24:38.630008",
     "exception": false,
     "start_time": "2024-02-06T14:24:36.886871",
     "status": "completed"
    },
    "tags": []
   },
   "outputs": [],
   "source": [
    "import numpy as np\n",
    "import pandas as pd\n",
    "import seaborn as sns\n",
    "import matplotlib.pyplot as plt\n",
    "%matplotlib inline"
   ]
  },
  {
   "cell_type": "code",
   "execution_count": 3,
   "id": "0db52490",
   "metadata": {
    "execution": {
     "iopub.execute_input": "2024-02-06T14:24:38.656228Z",
     "iopub.status.busy": "2024-02-06T14:24:38.655839Z",
     "iopub.status.idle": "2024-02-06T14:24:52.225588Z",
     "shell.execute_reply": "2024-02-06T14:24:52.224191Z"
    },
    "papermill": {
     "duration": 13.587472,
     "end_time": "2024-02-06T14:24:52.229425",
     "exception": false,
     "start_time": "2024-02-06T14:24:38.641953",
     "status": "completed"
    },
    "tags": []
   },
   "outputs": [],
   "source": [
    "df=pd.read_csv(\"/kaggle/input/zomato-bangalore-restaurants/zomato.csv\")"
   ]
  },
  {
   "cell_type": "code",
   "execution_count": 4,
   "id": "0bdbd0a6",
   "metadata": {
    "execution": {
     "iopub.execute_input": "2024-02-06T14:24:52.255968Z",
     "iopub.status.busy": "2024-02-06T14:24:52.255555Z",
     "iopub.status.idle": "2024-02-06T14:24:52.284241Z",
     "shell.execute_reply": "2024-02-06T14:24:52.282759Z"
    },
    "papermill": {
     "duration": 0.04481,
     "end_time": "2024-02-06T14:24:52.287097",
     "exception": false,
     "start_time": "2024-02-06T14:24:52.242287",
     "status": "completed"
    },
    "tags": []
   },
   "outputs": [
    {
     "data": {
      "text/html": [
       "<div>\n",
       "<style scoped>\n",
       "    .dataframe tbody tr th:only-of-type {\n",
       "        vertical-align: middle;\n",
       "    }\n",
       "\n",
       "    .dataframe tbody tr th {\n",
       "        vertical-align: top;\n",
       "    }\n",
       "\n",
       "    .dataframe thead th {\n",
       "        text-align: right;\n",
       "    }\n",
       "</style>\n",
       "<table border=\"1\" class=\"dataframe\">\n",
       "  <thead>\n",
       "    <tr style=\"text-align: right;\">\n",
       "      <th></th>\n",
       "      <th>url</th>\n",
       "      <th>address</th>\n",
       "      <th>name</th>\n",
       "      <th>online_order</th>\n",
       "      <th>book_table</th>\n",
       "      <th>rate</th>\n",
       "      <th>votes</th>\n",
       "      <th>phone</th>\n",
       "      <th>location</th>\n",
       "      <th>rest_type</th>\n",
       "      <th>dish_liked</th>\n",
       "      <th>cuisines</th>\n",
       "      <th>approx_cost(for two people)</th>\n",
       "      <th>reviews_list</th>\n",
       "      <th>menu_item</th>\n",
       "      <th>listed_in(type)</th>\n",
       "      <th>listed_in(city)</th>\n",
       "    </tr>\n",
       "  </thead>\n",
       "  <tbody>\n",
       "    <tr>\n",
       "      <th>0</th>\n",
       "      <td>https://www.zomato.com/bangalore/jalsa-banasha...</td>\n",
       "      <td>942, 21st Main Road, 2nd Stage, Banashankari, ...</td>\n",
       "      <td>Jalsa</td>\n",
       "      <td>Yes</td>\n",
       "      <td>Yes</td>\n",
       "      <td>4.1/5</td>\n",
       "      <td>775</td>\n",
       "      <td>080 42297555\\r\\n+91 9743772233</td>\n",
       "      <td>Banashankari</td>\n",
       "      <td>Casual Dining</td>\n",
       "      <td>Pasta, Lunch Buffet, Masala Papad, Paneer Laja...</td>\n",
       "      <td>North Indian, Mughlai, Chinese</td>\n",
       "      <td>800</td>\n",
       "      <td>[('Rated 4.0', 'RATED\\n  A beautiful place to ...</td>\n",
       "      <td>[]</td>\n",
       "      <td>Buffet</td>\n",
       "      <td>Banashankari</td>\n",
       "    </tr>\n",
       "    <tr>\n",
       "      <th>1</th>\n",
       "      <td>https://www.zomato.com/bangalore/spice-elephan...</td>\n",
       "      <td>2nd Floor, 80 Feet Road, Near Big Bazaar, 6th ...</td>\n",
       "      <td>Spice Elephant</td>\n",
       "      <td>Yes</td>\n",
       "      <td>No</td>\n",
       "      <td>4.1/5</td>\n",
       "      <td>787</td>\n",
       "      <td>080 41714161</td>\n",
       "      <td>Banashankari</td>\n",
       "      <td>Casual Dining</td>\n",
       "      <td>Momos, Lunch Buffet, Chocolate Nirvana, Thai G...</td>\n",
       "      <td>Chinese, North Indian, Thai</td>\n",
       "      <td>800</td>\n",
       "      <td>[('Rated 4.0', 'RATED\\n  Had been here for din...</td>\n",
       "      <td>[]</td>\n",
       "      <td>Buffet</td>\n",
       "      <td>Banashankari</td>\n",
       "    </tr>\n",
       "    <tr>\n",
       "      <th>2</th>\n",
       "      <td>https://www.zomato.com/SanchurroBangalore?cont...</td>\n",
       "      <td>1112, Next to KIMS Medical College, 17th Cross...</td>\n",
       "      <td>San Churro Cafe</td>\n",
       "      <td>Yes</td>\n",
       "      <td>No</td>\n",
       "      <td>3.8/5</td>\n",
       "      <td>918</td>\n",
       "      <td>+91 9663487993</td>\n",
       "      <td>Banashankari</td>\n",
       "      <td>Cafe, Casual Dining</td>\n",
       "      <td>Churros, Cannelloni, Minestrone Soup, Hot Choc...</td>\n",
       "      <td>Cafe, Mexican, Italian</td>\n",
       "      <td>800</td>\n",
       "      <td>[('Rated 3.0', \"RATED\\n  Ambience is not that ...</td>\n",
       "      <td>[]</td>\n",
       "      <td>Buffet</td>\n",
       "      <td>Banashankari</td>\n",
       "    </tr>\n",
       "    <tr>\n",
       "      <th>3</th>\n",
       "      <td>https://www.zomato.com/bangalore/addhuri-udupi...</td>\n",
       "      <td>1st Floor, Annakuteera, 3rd Stage, Banashankar...</td>\n",
       "      <td>Addhuri Udupi Bhojana</td>\n",
       "      <td>No</td>\n",
       "      <td>No</td>\n",
       "      <td>3.7/5</td>\n",
       "      <td>88</td>\n",
       "      <td>+91 9620009302</td>\n",
       "      <td>Banashankari</td>\n",
       "      <td>Quick Bites</td>\n",
       "      <td>Masala Dosa</td>\n",
       "      <td>South Indian, North Indian</td>\n",
       "      <td>300</td>\n",
       "      <td>[('Rated 4.0', \"RATED\\n  Great food and proper...</td>\n",
       "      <td>[]</td>\n",
       "      <td>Buffet</td>\n",
       "      <td>Banashankari</td>\n",
       "    </tr>\n",
       "    <tr>\n",
       "      <th>4</th>\n",
       "      <td>https://www.zomato.com/bangalore/grand-village...</td>\n",
       "      <td>10, 3rd Floor, Lakshmi Associates, Gandhi Baza...</td>\n",
       "      <td>Grand Village</td>\n",
       "      <td>No</td>\n",
       "      <td>No</td>\n",
       "      <td>3.8/5</td>\n",
       "      <td>166</td>\n",
       "      <td>+91 8026612447\\r\\n+91 9901210005</td>\n",
       "      <td>Basavanagudi</td>\n",
       "      <td>Casual Dining</td>\n",
       "      <td>Panipuri, Gol Gappe</td>\n",
       "      <td>North Indian, Rajasthani</td>\n",
       "      <td>600</td>\n",
       "      <td>[('Rated 4.0', 'RATED\\n  Very good restaurant ...</td>\n",
       "      <td>[]</td>\n",
       "      <td>Buffet</td>\n",
       "      <td>Banashankari</td>\n",
       "    </tr>\n",
       "  </tbody>\n",
       "</table>\n",
       "</div>"
      ],
      "text/plain": [
       "                                                 url  \\\n",
       "0  https://www.zomato.com/bangalore/jalsa-banasha...   \n",
       "1  https://www.zomato.com/bangalore/spice-elephan...   \n",
       "2  https://www.zomato.com/SanchurroBangalore?cont...   \n",
       "3  https://www.zomato.com/bangalore/addhuri-udupi...   \n",
       "4  https://www.zomato.com/bangalore/grand-village...   \n",
       "\n",
       "                                             address                   name  \\\n",
       "0  942, 21st Main Road, 2nd Stage, Banashankari, ...                  Jalsa   \n",
       "1  2nd Floor, 80 Feet Road, Near Big Bazaar, 6th ...         Spice Elephant   \n",
       "2  1112, Next to KIMS Medical College, 17th Cross...        San Churro Cafe   \n",
       "3  1st Floor, Annakuteera, 3rd Stage, Banashankar...  Addhuri Udupi Bhojana   \n",
       "4  10, 3rd Floor, Lakshmi Associates, Gandhi Baza...          Grand Village   \n",
       "\n",
       "  online_order book_table   rate  votes                             phone  \\\n",
       "0          Yes        Yes  4.1/5    775    080 42297555\\r\\n+91 9743772233   \n",
       "1          Yes         No  4.1/5    787                      080 41714161   \n",
       "2          Yes         No  3.8/5    918                    +91 9663487993   \n",
       "3           No         No  3.7/5     88                    +91 9620009302   \n",
       "4           No         No  3.8/5    166  +91 8026612447\\r\\n+91 9901210005   \n",
       "\n",
       "       location            rest_type  \\\n",
       "0  Banashankari        Casual Dining   \n",
       "1  Banashankari        Casual Dining   \n",
       "2  Banashankari  Cafe, Casual Dining   \n",
       "3  Banashankari          Quick Bites   \n",
       "4  Basavanagudi        Casual Dining   \n",
       "\n",
       "                                          dish_liked  \\\n",
       "0  Pasta, Lunch Buffet, Masala Papad, Paneer Laja...   \n",
       "1  Momos, Lunch Buffet, Chocolate Nirvana, Thai G...   \n",
       "2  Churros, Cannelloni, Minestrone Soup, Hot Choc...   \n",
       "3                                        Masala Dosa   \n",
       "4                                Panipuri, Gol Gappe   \n",
       "\n",
       "                         cuisines approx_cost(for two people)  \\\n",
       "0  North Indian, Mughlai, Chinese                         800   \n",
       "1     Chinese, North Indian, Thai                         800   \n",
       "2          Cafe, Mexican, Italian                         800   \n",
       "3      South Indian, North Indian                         300   \n",
       "4        North Indian, Rajasthani                         600   \n",
       "\n",
       "                                        reviews_list menu_item  \\\n",
       "0  [('Rated 4.0', 'RATED\\n  A beautiful place to ...        []   \n",
       "1  [('Rated 4.0', 'RATED\\n  Had been here for din...        []   \n",
       "2  [('Rated 3.0', \"RATED\\n  Ambience is not that ...        []   \n",
       "3  [('Rated 4.0', \"RATED\\n  Great food and proper...        []   \n",
       "4  [('Rated 4.0', 'RATED\\n  Very good restaurant ...        []   \n",
       "\n",
       "  listed_in(type) listed_in(city)  \n",
       "0          Buffet    Banashankari  \n",
       "1          Buffet    Banashankari  \n",
       "2          Buffet    Banashankari  \n",
       "3          Buffet    Banashankari  \n",
       "4          Buffet    Banashankari  "
      ]
     },
     "execution_count": 4,
     "metadata": {},
     "output_type": "execute_result"
    }
   ],
   "source": [
    "df.head()"
   ]
  },
  {
   "cell_type": "code",
   "execution_count": 5,
   "id": "91aa064f",
   "metadata": {
    "execution": {
     "iopub.execute_input": "2024-02-06T14:24:52.314167Z",
     "iopub.status.busy": "2024-02-06T14:24:52.313700Z",
     "iopub.status.idle": "2024-02-06T14:24:52.417319Z",
     "shell.execute_reply": "2024-02-06T14:24:52.415915Z"
    },
    "papermill": {
     "duration": 0.120447,
     "end_time": "2024-02-06T14:24:52.420094",
     "exception": false,
     "start_time": "2024-02-06T14:24:52.299647",
     "status": "completed"
    },
    "tags": []
   },
   "outputs": [
    {
     "data": {
      "text/plain": [
       "url                                0\n",
       "address                            0\n",
       "name                               0\n",
       "online_order                       0\n",
       "book_table                         0\n",
       "rate                            7775\n",
       "votes                              0\n",
       "phone                           1208\n",
       "location                          21\n",
       "rest_type                        227\n",
       "dish_liked                     28078\n",
       "cuisines                          45\n",
       "approx_cost(for two people)      346\n",
       "reviews_list                       0\n",
       "menu_item                          0\n",
       "listed_in(type)                    0\n",
       "listed_in(city)                    0\n",
       "dtype: int64"
      ]
     },
     "execution_count": 5,
     "metadata": {},
     "output_type": "execute_result"
    }
   ],
   "source": [
    "df.isnull().sum()"
   ]
  },
  {
   "cell_type": "code",
   "execution_count": 6,
   "id": "1e19583b",
   "metadata": {
    "execution": {
     "iopub.execute_input": "2024-02-06T14:24:52.448146Z",
     "iopub.status.busy": "2024-02-06T14:24:52.447757Z",
     "iopub.status.idle": "2024-02-06T14:24:52.569221Z",
     "shell.execute_reply": "2024-02-06T14:24:52.567919Z"
    },
    "papermill": {
     "duration": 0.138464,
     "end_time": "2024-02-06T14:24:52.571997",
     "exception": false,
     "start_time": "2024-02-06T14:24:52.433533",
     "status": "completed"
    },
    "tags": []
   },
   "outputs": [
    {
     "name": "stdout",
     "output_type": "stream",
     "text": [
      "<class 'pandas.core.frame.DataFrame'>\n",
      "RangeIndex: 51717 entries, 0 to 51716\n",
      "Data columns (total 17 columns):\n",
      " #   Column                       Non-Null Count  Dtype \n",
      "---  ------                       --------------  ----- \n",
      " 0   url                          51717 non-null  object\n",
      " 1   address                      51717 non-null  object\n",
      " 2   name                         51717 non-null  object\n",
      " 3   online_order                 51717 non-null  object\n",
      " 4   book_table                   51717 non-null  object\n",
      " 5   rate                         43942 non-null  object\n",
      " 6   votes                        51717 non-null  int64 \n",
      " 7   phone                        50509 non-null  object\n",
      " 8   location                     51696 non-null  object\n",
      " 9   rest_type                    51490 non-null  object\n",
      " 10  dish_liked                   23639 non-null  object\n",
      " 11  cuisines                     51672 non-null  object\n",
      " 12  approx_cost(for two people)  51371 non-null  object\n",
      " 13  reviews_list                 51717 non-null  object\n",
      " 14  menu_item                    51717 non-null  object\n",
      " 15  listed_in(type)              51717 non-null  object\n",
      " 16  listed_in(city)              51717 non-null  object\n",
      "dtypes: int64(1), object(16)\n",
      "memory usage: 6.7+ MB\n"
     ]
    }
   ],
   "source": [
    "df.info()"
   ]
  },
  {
   "cell_type": "code",
   "execution_count": 7,
   "id": "11ad13f3",
   "metadata": {
    "execution": {
     "iopub.execute_input": "2024-02-06T14:24:52.600010Z",
     "iopub.status.busy": "2024-02-06T14:24:52.599615Z",
     "iopub.status.idle": "2024-02-06T14:24:52.617083Z",
     "shell.execute_reply": "2024-02-06T14:24:52.615640Z"
    },
    "papermill": {
     "duration": 0.034459,
     "end_time": "2024-02-06T14:24:52.620117",
     "exception": false,
     "start_time": "2024-02-06T14:24:52.585658",
     "status": "completed"
    },
    "tags": []
   },
   "outputs": [
    {
     "data": {
      "text/plain": [
       "listed_in(type)\n",
       "Delivery              25942\n",
       "Dine-out              17779\n",
       "Desserts               3593\n",
       "Cafes                  1723\n",
       "Drinks & nightlife     1101\n",
       "Buffet                  882\n",
       "Pubs and bars           697\n",
       "Name: count, dtype: int64"
      ]
     },
     "execution_count": 7,
     "metadata": {},
     "output_type": "execute_result"
    }
   ],
   "source": [
    "df['listed_in(type)'].value_counts()"
   ]
  },
  {
   "cell_type": "code",
   "execution_count": 8,
   "id": "c0e9b544",
   "metadata": {
    "execution": {
     "iopub.execute_input": "2024-02-06T14:24:52.647648Z",
     "iopub.status.busy": "2024-02-06T14:24:52.647251Z",
     "iopub.status.idle": "2024-02-06T14:24:52.662764Z",
     "shell.execute_reply": "2024-02-06T14:24:52.661477Z"
    },
    "papermill": {
     "duration": 0.032545,
     "end_time": "2024-02-06T14:24:52.665643",
     "exception": false,
     "start_time": "2024-02-06T14:24:52.633098",
     "status": "completed"
    },
    "tags": []
   },
   "outputs": [],
   "source": [
    "final_df=df.copy()"
   ]
  },
  {
   "cell_type": "code",
   "execution_count": 9,
   "id": "9c3d24ae",
   "metadata": {
    "execution": {
     "iopub.execute_input": "2024-02-06T14:24:52.693192Z",
     "iopub.status.busy": "2024-02-06T14:24:52.692783Z",
     "iopub.status.idle": "2024-02-06T14:24:52.719565Z",
     "shell.execute_reply": "2024-02-06T14:24:52.718276Z"
    },
    "papermill": {
     "duration": 0.043794,
     "end_time": "2024-02-06T14:24:52.722438",
     "exception": false,
     "start_time": "2024-02-06T14:24:52.678644",
     "status": "completed"
    },
    "tags": []
   },
   "outputs": [],
   "source": [
    "final_df.drop(['listed_in(city)','url','address'],axis=1,inplace=True)"
   ]
  },
  {
   "cell_type": "code",
   "execution_count": 10,
   "id": "9a19fb0f",
   "metadata": {
    "execution": {
     "iopub.execute_input": "2024-02-06T14:24:52.750892Z",
     "iopub.status.busy": "2024-02-06T14:24:52.750435Z",
     "iopub.status.idle": "2024-02-06T14:24:52.770200Z",
     "shell.execute_reply": "2024-02-06T14:24:52.769260Z"
    },
    "papermill": {
     "duration": 0.036124,
     "end_time": "2024-02-06T14:24:52.772353",
     "exception": false,
     "start_time": "2024-02-06T14:24:52.736229",
     "status": "completed"
    },
    "tags": []
   },
   "outputs": [
    {
     "data": {
      "text/html": [
       "<div>\n",
       "<style scoped>\n",
       "    .dataframe tbody tr th:only-of-type {\n",
       "        vertical-align: middle;\n",
       "    }\n",
       "\n",
       "    .dataframe tbody tr th {\n",
       "        vertical-align: top;\n",
       "    }\n",
       "\n",
       "    .dataframe thead th {\n",
       "        text-align: right;\n",
       "    }\n",
       "</style>\n",
       "<table border=\"1\" class=\"dataframe\">\n",
       "  <thead>\n",
       "    <tr style=\"text-align: right;\">\n",
       "      <th></th>\n",
       "      <th>name</th>\n",
       "      <th>online_order</th>\n",
       "      <th>book_table</th>\n",
       "      <th>rate</th>\n",
       "      <th>votes</th>\n",
       "      <th>phone</th>\n",
       "      <th>location</th>\n",
       "      <th>rest_type</th>\n",
       "      <th>dish_liked</th>\n",
       "      <th>cuisines</th>\n",
       "      <th>approx_cost(for two people)</th>\n",
       "      <th>reviews_list</th>\n",
       "      <th>menu_item</th>\n",
       "      <th>listed_in(type)</th>\n",
       "    </tr>\n",
       "  </thead>\n",
       "  <tbody>\n",
       "    <tr>\n",
       "      <th>0</th>\n",
       "      <td>Jalsa</td>\n",
       "      <td>Yes</td>\n",
       "      <td>Yes</td>\n",
       "      <td>4.1/5</td>\n",
       "      <td>775</td>\n",
       "      <td>080 42297555\\r\\n+91 9743772233</td>\n",
       "      <td>Banashankari</td>\n",
       "      <td>Casual Dining</td>\n",
       "      <td>Pasta, Lunch Buffet, Masala Papad, Paneer Laja...</td>\n",
       "      <td>North Indian, Mughlai, Chinese</td>\n",
       "      <td>800</td>\n",
       "      <td>[('Rated 4.0', 'RATED\\n  A beautiful place to ...</td>\n",
       "      <td>[]</td>\n",
       "      <td>Buffet</td>\n",
       "    </tr>\n",
       "    <tr>\n",
       "      <th>1</th>\n",
       "      <td>Spice Elephant</td>\n",
       "      <td>Yes</td>\n",
       "      <td>No</td>\n",
       "      <td>4.1/5</td>\n",
       "      <td>787</td>\n",
       "      <td>080 41714161</td>\n",
       "      <td>Banashankari</td>\n",
       "      <td>Casual Dining</td>\n",
       "      <td>Momos, Lunch Buffet, Chocolate Nirvana, Thai G...</td>\n",
       "      <td>Chinese, North Indian, Thai</td>\n",
       "      <td>800</td>\n",
       "      <td>[('Rated 4.0', 'RATED\\n  Had been here for din...</td>\n",
       "      <td>[]</td>\n",
       "      <td>Buffet</td>\n",
       "    </tr>\n",
       "    <tr>\n",
       "      <th>2</th>\n",
       "      <td>San Churro Cafe</td>\n",
       "      <td>Yes</td>\n",
       "      <td>No</td>\n",
       "      <td>3.8/5</td>\n",
       "      <td>918</td>\n",
       "      <td>+91 9663487993</td>\n",
       "      <td>Banashankari</td>\n",
       "      <td>Cafe, Casual Dining</td>\n",
       "      <td>Churros, Cannelloni, Minestrone Soup, Hot Choc...</td>\n",
       "      <td>Cafe, Mexican, Italian</td>\n",
       "      <td>800</td>\n",
       "      <td>[('Rated 3.0', \"RATED\\n  Ambience is not that ...</td>\n",
       "      <td>[]</td>\n",
       "      <td>Buffet</td>\n",
       "    </tr>\n",
       "    <tr>\n",
       "      <th>3</th>\n",
       "      <td>Addhuri Udupi Bhojana</td>\n",
       "      <td>No</td>\n",
       "      <td>No</td>\n",
       "      <td>3.7/5</td>\n",
       "      <td>88</td>\n",
       "      <td>+91 9620009302</td>\n",
       "      <td>Banashankari</td>\n",
       "      <td>Quick Bites</td>\n",
       "      <td>Masala Dosa</td>\n",
       "      <td>South Indian, North Indian</td>\n",
       "      <td>300</td>\n",
       "      <td>[('Rated 4.0', \"RATED\\n  Great food and proper...</td>\n",
       "      <td>[]</td>\n",
       "      <td>Buffet</td>\n",
       "    </tr>\n",
       "    <tr>\n",
       "      <th>4</th>\n",
       "      <td>Grand Village</td>\n",
       "      <td>No</td>\n",
       "      <td>No</td>\n",
       "      <td>3.8/5</td>\n",
       "      <td>166</td>\n",
       "      <td>+91 8026612447\\r\\n+91 9901210005</td>\n",
       "      <td>Basavanagudi</td>\n",
       "      <td>Casual Dining</td>\n",
       "      <td>Panipuri, Gol Gappe</td>\n",
       "      <td>North Indian, Rajasthani</td>\n",
       "      <td>600</td>\n",
       "      <td>[('Rated 4.0', 'RATED\\n  Very good restaurant ...</td>\n",
       "      <td>[]</td>\n",
       "      <td>Buffet</td>\n",
       "    </tr>\n",
       "  </tbody>\n",
       "</table>\n",
       "</div>"
      ],
      "text/plain": [
       "                    name online_order book_table   rate  votes  \\\n",
       "0                  Jalsa          Yes        Yes  4.1/5    775   \n",
       "1         Spice Elephant          Yes         No  4.1/5    787   \n",
       "2        San Churro Cafe          Yes         No  3.8/5    918   \n",
       "3  Addhuri Udupi Bhojana           No         No  3.7/5     88   \n",
       "4          Grand Village           No         No  3.8/5    166   \n",
       "\n",
       "                              phone      location            rest_type  \\\n",
       "0    080 42297555\\r\\n+91 9743772233  Banashankari        Casual Dining   \n",
       "1                      080 41714161  Banashankari        Casual Dining   \n",
       "2                    +91 9663487993  Banashankari  Cafe, Casual Dining   \n",
       "3                    +91 9620009302  Banashankari          Quick Bites   \n",
       "4  +91 8026612447\\r\\n+91 9901210005  Basavanagudi        Casual Dining   \n",
       "\n",
       "                                          dish_liked  \\\n",
       "0  Pasta, Lunch Buffet, Masala Papad, Paneer Laja...   \n",
       "1  Momos, Lunch Buffet, Chocolate Nirvana, Thai G...   \n",
       "2  Churros, Cannelloni, Minestrone Soup, Hot Choc...   \n",
       "3                                        Masala Dosa   \n",
       "4                                Panipuri, Gol Gappe   \n",
       "\n",
       "                         cuisines approx_cost(for two people)  \\\n",
       "0  North Indian, Mughlai, Chinese                         800   \n",
       "1     Chinese, North Indian, Thai                         800   \n",
       "2          Cafe, Mexican, Italian                         800   \n",
       "3      South Indian, North Indian                         300   \n",
       "4        North Indian, Rajasthani                         600   \n",
       "\n",
       "                                        reviews_list menu_item listed_in(type)  \n",
       "0  [('Rated 4.0', 'RATED\\n  A beautiful place to ...        []          Buffet  \n",
       "1  [('Rated 4.0', 'RATED\\n  Had been here for din...        []          Buffet  \n",
       "2  [('Rated 3.0', \"RATED\\n  Ambience is not that ...        []          Buffet  \n",
       "3  [('Rated 4.0', \"RATED\\n  Great food and proper...        []          Buffet  \n",
       "4  [('Rated 4.0', 'RATED\\n  Very good restaurant ...        []          Buffet  "
      ]
     },
     "execution_count": 10,
     "metadata": {},
     "output_type": "execute_result"
    }
   ],
   "source": [
    "final_df.head()"
   ]
  },
  {
   "cell_type": "code",
   "execution_count": 11,
   "id": "88d27702",
   "metadata": {
    "execution": {
     "iopub.execute_input": "2024-02-06T14:24:52.800793Z",
     "iopub.status.busy": "2024-02-06T14:24:52.799959Z",
     "iopub.status.idle": "2024-02-06T14:24:52.813565Z",
     "shell.execute_reply": "2024-02-06T14:24:52.812746Z"
    },
    "papermill": {
     "duration": 0.030454,
     "end_time": "2024-02-06T14:24:52.816048",
     "exception": false,
     "start_time": "2024-02-06T14:24:52.785594",
     "status": "completed"
    },
    "tags": []
   },
   "outputs": [],
   "source": [
    "final_df.drop(['menu_item'],axis=1,inplace=True)"
   ]
  },
  {
   "cell_type": "code",
   "execution_count": 12,
   "id": "7a45a2a2",
   "metadata": {
    "execution": {
     "iopub.execute_input": "2024-02-06T14:24:52.844861Z",
     "iopub.status.busy": "2024-02-06T14:24:52.843605Z",
     "iopub.status.idle": "2024-02-06T14:24:52.862301Z",
     "shell.execute_reply": "2024-02-06T14:24:52.861426Z"
    },
    "papermill": {
     "duration": 0.035184,
     "end_time": "2024-02-06T14:24:52.864438",
     "exception": false,
     "start_time": "2024-02-06T14:24:52.829254",
     "status": "completed"
    },
    "tags": []
   },
   "outputs": [
    {
     "data": {
      "text/html": [
       "<div>\n",
       "<style scoped>\n",
       "    .dataframe tbody tr th:only-of-type {\n",
       "        vertical-align: middle;\n",
       "    }\n",
       "\n",
       "    .dataframe tbody tr th {\n",
       "        vertical-align: top;\n",
       "    }\n",
       "\n",
       "    .dataframe thead th {\n",
       "        text-align: right;\n",
       "    }\n",
       "</style>\n",
       "<table border=\"1\" class=\"dataframe\">\n",
       "  <thead>\n",
       "    <tr style=\"text-align: right;\">\n",
       "      <th></th>\n",
       "      <th>name</th>\n",
       "      <th>online_order</th>\n",
       "      <th>book_table</th>\n",
       "      <th>rate</th>\n",
       "      <th>votes</th>\n",
       "      <th>phone</th>\n",
       "      <th>location</th>\n",
       "      <th>rest_type</th>\n",
       "      <th>dish_liked</th>\n",
       "      <th>cuisines</th>\n",
       "      <th>approx_cost(for two people)</th>\n",
       "      <th>reviews_list</th>\n",
       "      <th>listed_in(type)</th>\n",
       "    </tr>\n",
       "  </thead>\n",
       "  <tbody>\n",
       "    <tr>\n",
       "      <th>0</th>\n",
       "      <td>Jalsa</td>\n",
       "      <td>Yes</td>\n",
       "      <td>Yes</td>\n",
       "      <td>4.1/5</td>\n",
       "      <td>775</td>\n",
       "      <td>080 42297555\\r\\n+91 9743772233</td>\n",
       "      <td>Banashankari</td>\n",
       "      <td>Casual Dining</td>\n",
       "      <td>Pasta, Lunch Buffet, Masala Papad, Paneer Laja...</td>\n",
       "      <td>North Indian, Mughlai, Chinese</td>\n",
       "      <td>800</td>\n",
       "      <td>[('Rated 4.0', 'RATED\\n  A beautiful place to ...</td>\n",
       "      <td>Buffet</td>\n",
       "    </tr>\n",
       "    <tr>\n",
       "      <th>1</th>\n",
       "      <td>Spice Elephant</td>\n",
       "      <td>Yes</td>\n",
       "      <td>No</td>\n",
       "      <td>4.1/5</td>\n",
       "      <td>787</td>\n",
       "      <td>080 41714161</td>\n",
       "      <td>Banashankari</td>\n",
       "      <td>Casual Dining</td>\n",
       "      <td>Momos, Lunch Buffet, Chocolate Nirvana, Thai G...</td>\n",
       "      <td>Chinese, North Indian, Thai</td>\n",
       "      <td>800</td>\n",
       "      <td>[('Rated 4.0', 'RATED\\n  Had been here for din...</td>\n",
       "      <td>Buffet</td>\n",
       "    </tr>\n",
       "    <tr>\n",
       "      <th>2</th>\n",
       "      <td>San Churro Cafe</td>\n",
       "      <td>Yes</td>\n",
       "      <td>No</td>\n",
       "      <td>3.8/5</td>\n",
       "      <td>918</td>\n",
       "      <td>+91 9663487993</td>\n",
       "      <td>Banashankari</td>\n",
       "      <td>Cafe, Casual Dining</td>\n",
       "      <td>Churros, Cannelloni, Minestrone Soup, Hot Choc...</td>\n",
       "      <td>Cafe, Mexican, Italian</td>\n",
       "      <td>800</td>\n",
       "      <td>[('Rated 3.0', \"RATED\\n  Ambience is not that ...</td>\n",
       "      <td>Buffet</td>\n",
       "    </tr>\n",
       "    <tr>\n",
       "      <th>3</th>\n",
       "      <td>Addhuri Udupi Bhojana</td>\n",
       "      <td>No</td>\n",
       "      <td>No</td>\n",
       "      <td>3.7/5</td>\n",
       "      <td>88</td>\n",
       "      <td>+91 9620009302</td>\n",
       "      <td>Banashankari</td>\n",
       "      <td>Quick Bites</td>\n",
       "      <td>Masala Dosa</td>\n",
       "      <td>South Indian, North Indian</td>\n",
       "      <td>300</td>\n",
       "      <td>[('Rated 4.0', \"RATED\\n  Great food and proper...</td>\n",
       "      <td>Buffet</td>\n",
       "    </tr>\n",
       "    <tr>\n",
       "      <th>4</th>\n",
       "      <td>Grand Village</td>\n",
       "      <td>No</td>\n",
       "      <td>No</td>\n",
       "      <td>3.8/5</td>\n",
       "      <td>166</td>\n",
       "      <td>+91 8026612447\\r\\n+91 9901210005</td>\n",
       "      <td>Basavanagudi</td>\n",
       "      <td>Casual Dining</td>\n",
       "      <td>Panipuri, Gol Gappe</td>\n",
       "      <td>North Indian, Rajasthani</td>\n",
       "      <td>600</td>\n",
       "      <td>[('Rated 4.0', 'RATED\\n  Very good restaurant ...</td>\n",
       "      <td>Buffet</td>\n",
       "    </tr>\n",
       "  </tbody>\n",
       "</table>\n",
       "</div>"
      ],
      "text/plain": [
       "                    name online_order book_table   rate  votes  \\\n",
       "0                  Jalsa          Yes        Yes  4.1/5    775   \n",
       "1         Spice Elephant          Yes         No  4.1/5    787   \n",
       "2        San Churro Cafe          Yes         No  3.8/5    918   \n",
       "3  Addhuri Udupi Bhojana           No         No  3.7/5     88   \n",
       "4          Grand Village           No         No  3.8/5    166   \n",
       "\n",
       "                              phone      location            rest_type  \\\n",
       "0    080 42297555\\r\\n+91 9743772233  Banashankari        Casual Dining   \n",
       "1                      080 41714161  Banashankari        Casual Dining   \n",
       "2                    +91 9663487993  Banashankari  Cafe, Casual Dining   \n",
       "3                    +91 9620009302  Banashankari          Quick Bites   \n",
       "4  +91 8026612447\\r\\n+91 9901210005  Basavanagudi        Casual Dining   \n",
       "\n",
       "                                          dish_liked  \\\n",
       "0  Pasta, Lunch Buffet, Masala Papad, Paneer Laja...   \n",
       "1  Momos, Lunch Buffet, Chocolate Nirvana, Thai G...   \n",
       "2  Churros, Cannelloni, Minestrone Soup, Hot Choc...   \n",
       "3                                        Masala Dosa   \n",
       "4                                Panipuri, Gol Gappe   \n",
       "\n",
       "                         cuisines approx_cost(for two people)  \\\n",
       "0  North Indian, Mughlai, Chinese                         800   \n",
       "1     Chinese, North Indian, Thai                         800   \n",
       "2          Cafe, Mexican, Italian                         800   \n",
       "3      South Indian, North Indian                         300   \n",
       "4        North Indian, Rajasthani                         600   \n",
       "\n",
       "                                        reviews_list listed_in(type)  \n",
       "0  [('Rated 4.0', 'RATED\\n  A beautiful place to ...          Buffet  \n",
       "1  [('Rated 4.0', 'RATED\\n  Had been here for din...          Buffet  \n",
       "2  [('Rated 3.0', \"RATED\\n  Ambience is not that ...          Buffet  \n",
       "3  [('Rated 4.0', \"RATED\\n  Great food and proper...          Buffet  \n",
       "4  [('Rated 4.0', 'RATED\\n  Very good restaurant ...          Buffet  "
      ]
     },
     "execution_count": 12,
     "metadata": {},
     "output_type": "execute_result"
    }
   ],
   "source": [
    "final_df.head()"
   ]
  },
  {
   "cell_type": "code",
   "execution_count": 13,
   "id": "9c71eec6",
   "metadata": {
    "execution": {
     "iopub.execute_input": "2024-02-06T14:24:52.893965Z",
     "iopub.status.busy": "2024-02-06T14:24:52.893044Z",
     "iopub.status.idle": "2024-02-06T14:24:52.969098Z",
     "shell.execute_reply": "2024-02-06T14:24:52.967947Z"
    },
    "papermill": {
     "duration": 0.093613,
     "end_time": "2024-02-06T14:24:52.971801",
     "exception": false,
     "start_time": "2024-02-06T14:24:52.878188",
     "status": "completed"
    },
    "tags": []
   },
   "outputs": [
    {
     "data": {
      "text/plain": [
       "name                               0\n",
       "online_order                       0\n",
       "book_table                         0\n",
       "rate                            7775\n",
       "votes                              0\n",
       "phone                           1208\n",
       "location                          21\n",
       "rest_type                        227\n",
       "dish_liked                     28078\n",
       "cuisines                          45\n",
       "approx_cost(for two people)      346\n",
       "reviews_list                       0\n",
       "listed_in(type)                    0\n",
       "dtype: int64"
      ]
     },
     "execution_count": 13,
     "metadata": {},
     "output_type": "execute_result"
    }
   ],
   "source": [
    "final_df.isnull().sum()"
   ]
  },
  {
   "cell_type": "code",
   "execution_count": 14,
   "id": "2e16362e",
   "metadata": {
    "execution": {
     "iopub.execute_input": "2024-02-06T14:24:53.002272Z",
     "iopub.status.busy": "2024-02-06T14:24:53.001610Z",
     "iopub.status.idle": "2024-02-06T14:24:53.160512Z",
     "shell.execute_reply": "2024-02-06T14:24:53.159167Z"
    },
    "papermill": {
     "duration": 0.177421,
     "end_time": "2024-02-06T14:24:53.163412",
     "exception": false,
     "start_time": "2024-02-06T14:24:52.985991",
     "status": "completed"
    },
    "tags": []
   },
   "outputs": [],
   "source": [
    "final_df['rate']=final_df['rate'].str.split(\"/\").str[0]"
   ]
  },
  {
   "cell_type": "code",
   "execution_count": 15,
   "id": "670ddc32",
   "metadata": {
    "execution": {
     "iopub.execute_input": "2024-02-06T14:24:53.192953Z",
     "iopub.status.busy": "2024-02-06T14:24:53.192515Z",
     "iopub.status.idle": "2024-02-06T14:24:53.212258Z",
     "shell.execute_reply": "2024-02-06T14:24:53.210952Z"
    },
    "papermill": {
     "duration": 0.037429,
     "end_time": "2024-02-06T14:24:53.214828",
     "exception": false,
     "start_time": "2024-02-06T14:24:53.177399",
     "status": "completed"
    },
    "tags": []
   },
   "outputs": [
    {
     "data": {
      "text/plain": [
       "rate\n",
       "NEW     2208\n",
       "3.9     2098\n",
       "3.8     2022\n",
       "3.7     2011\n",
       "3.9     1874\n",
       "        ... \n",
       "2.2        7\n",
       "2.0        7\n",
       "2.0        4\n",
       "1.8        3\n",
       "1.8        2\n",
       "Name: count, Length: 64, dtype: int64"
      ]
     },
     "execution_count": 15,
     "metadata": {},
     "output_type": "execute_result"
    }
   ],
   "source": [
    "final_df['rate'].value_counts()"
   ]
  },
  {
   "cell_type": "code",
   "execution_count": 16,
   "id": "0e5dd7c1",
   "metadata": {
    "execution": {
     "iopub.execute_input": "2024-02-06T14:24:53.246689Z",
     "iopub.status.busy": "2024-02-06T14:24:53.245252Z",
     "iopub.status.idle": "2024-02-06T14:24:53.319952Z",
     "shell.execute_reply": "2024-02-06T14:24:53.318606Z"
    },
    "papermill": {
     "duration": 0.094154,
     "end_time": "2024-02-06T14:24:53.323033",
     "exception": false,
     "start_time": "2024-02-06T14:24:53.228879",
     "status": "completed"
    },
    "tags": []
   },
   "outputs": [],
   "source": [
    "final_df['rate']=final_df['rate'].str.split(\" \").str[0]"
   ]
  },
  {
   "cell_type": "code",
   "execution_count": 17,
   "id": "0fb477af",
   "metadata": {
    "execution": {
     "iopub.execute_input": "2024-02-06T14:24:53.354518Z",
     "iopub.status.busy": "2024-02-06T14:24:53.354070Z",
     "iopub.status.idle": "2024-02-06T14:24:53.370766Z",
     "shell.execute_reply": "2024-02-06T14:24:53.369308Z"
    },
    "papermill": {
     "duration": 0.03484,
     "end_time": "2024-02-06T14:24:53.373585",
     "exception": false,
     "start_time": "2024-02-06T14:24:53.338745",
     "status": "completed"
    },
    "tags": []
   },
   "outputs": [],
   "source": [
    "final_df['rate']=final_df['rate'].fillna(\"NEW\")"
   ]
  },
  {
   "cell_type": "code",
   "execution_count": 18,
   "id": "c221aefe",
   "metadata": {
    "execution": {
     "iopub.execute_input": "2024-02-06T14:24:53.403255Z",
     "iopub.status.busy": "2024-02-06T14:24:53.402881Z",
     "iopub.status.idle": "2024-02-06T14:24:53.422065Z",
     "shell.execute_reply": "2024-02-06T14:24:53.420867Z"
    },
    "papermill": {
     "duration": 0.03702,
     "end_time": "2024-02-06T14:24:53.424629",
     "exception": false,
     "start_time": "2024-02-06T14:24:53.387609",
     "status": "completed"
    },
    "tags": []
   },
   "outputs": [],
   "source": [
    "final_df['rate']=final_df['rate'].replace(\"NEW\",0)"
   ]
  },
  {
   "cell_type": "code",
   "execution_count": 19,
   "id": "0a9b4a2e",
   "metadata": {
    "execution": {
     "iopub.execute_input": "2024-02-06T14:24:53.454282Z",
     "iopub.status.busy": "2024-02-06T14:24:53.453849Z",
     "iopub.status.idle": "2024-02-06T14:24:53.472298Z",
     "shell.execute_reply": "2024-02-06T14:24:53.470972Z"
    },
    "papermill": {
     "duration": 0.036453,
     "end_time": "2024-02-06T14:24:53.475048",
     "exception": false,
     "start_time": "2024-02-06T14:24:53.438595",
     "status": "completed"
    },
    "tags": []
   },
   "outputs": [],
   "source": [
    "final_df['rate']=final_df['rate'].replace(\"-\",0)"
   ]
  },
  {
   "cell_type": "code",
   "execution_count": 20,
   "id": "99629b4e",
   "metadata": {
    "execution": {
     "iopub.execute_input": "2024-02-06T14:24:53.506067Z",
     "iopub.status.busy": "2024-02-06T14:24:53.505636Z",
     "iopub.status.idle": "2024-02-06T14:24:53.521939Z",
     "shell.execute_reply": "2024-02-06T14:24:53.520607Z"
    },
    "papermill": {
     "duration": 0.035675,
     "end_time": "2024-02-06T14:24:53.524734",
     "exception": false,
     "start_time": "2024-02-06T14:24:53.489059",
     "status": "completed"
    },
    "tags": []
   },
   "outputs": [],
   "source": [
    "final_df['rate']=final_df['rate'].astype('float')"
   ]
  },
  {
   "cell_type": "code",
   "execution_count": 21,
   "id": "3fca3953",
   "metadata": {
    "execution": {
     "iopub.execute_input": "2024-02-06T14:24:53.554487Z",
     "iopub.status.busy": "2024-02-06T14:24:53.554076Z",
     "iopub.status.idle": "2024-02-06T14:24:53.562108Z",
     "shell.execute_reply": "2024-02-06T14:24:53.560748Z"
    },
    "papermill": {
     "duration": 0.025756,
     "end_time": "2024-02-06T14:24:53.564507",
     "exception": false,
     "start_time": "2024-02-06T14:24:53.538751",
     "status": "completed"
    },
    "tags": []
   },
   "outputs": [
    {
     "data": {
      "text/plain": [
       "2.9812092735464164"
      ]
     },
     "execution_count": 21,
     "metadata": {},
     "output_type": "execute_result"
    }
   ],
   "source": [
    "final_df['rate'].mean()"
   ]
  },
  {
   "cell_type": "code",
   "execution_count": 22,
   "id": "6f81e903",
   "metadata": {
    "execution": {
     "iopub.execute_input": "2024-02-06T14:24:53.595251Z",
     "iopub.status.busy": "2024-02-06T14:24:53.594813Z",
     "iopub.status.idle": "2024-02-06T14:24:53.601337Z",
     "shell.execute_reply": "2024-02-06T14:24:53.600211Z"
    },
    "papermill": {
     "duration": 0.025215,
     "end_time": "2024-02-06T14:24:53.604034",
     "exception": false,
     "start_time": "2024-02-06T14:24:53.578819",
     "status": "completed"
    },
    "tags": []
   },
   "outputs": [],
   "source": [
    "final_df['rate']=final_df['rate'].replace(0,3.0)"
   ]
  },
  {
   "cell_type": "markdown",
   "id": "9c51936c",
   "metadata": {
    "papermill": {
     "duration": 0.014316,
     "end_time": "2024-02-06T14:24:53.632533",
     "exception": false,
     "start_time": "2024-02-06T14:24:53.618217",
     "status": "completed"
    },
    "tags": []
   },
   "source": [
    "## The rate column is adjusted by taking the mean and replacing the null values with it."
   ]
  },
  {
   "cell_type": "code",
   "execution_count": 23,
   "id": "08b98713",
   "metadata": {
    "execution": {
     "iopub.execute_input": "2024-02-06T14:24:53.663418Z",
     "iopub.status.busy": "2024-02-06T14:24:53.663022Z",
     "iopub.status.idle": "2024-02-06T14:24:53.739908Z",
     "shell.execute_reply": "2024-02-06T14:24:53.738422Z"
    },
    "papermill": {
     "duration": 0.095691,
     "end_time": "2024-02-06T14:24:53.742896",
     "exception": false,
     "start_time": "2024-02-06T14:24:53.647205",
     "status": "completed"
    },
    "tags": []
   },
   "outputs": [
    {
     "name": "stdout",
     "output_type": "stream",
     "text": [
      "<class 'pandas.core.frame.DataFrame'>\n",
      "RangeIndex: 51717 entries, 0 to 51716\n",
      "Data columns (total 13 columns):\n",
      " #   Column                       Non-Null Count  Dtype  \n",
      "---  ------                       --------------  -----  \n",
      " 0   name                         51717 non-null  object \n",
      " 1   online_order                 51717 non-null  object \n",
      " 2   book_table                   51717 non-null  object \n",
      " 3   rate                         51717 non-null  float64\n",
      " 4   votes                        51717 non-null  int64  \n",
      " 5   phone                        50509 non-null  object \n",
      " 6   location                     51696 non-null  object \n",
      " 7   rest_type                    51490 non-null  object \n",
      " 8   dish_liked                   23639 non-null  object \n",
      " 9   cuisines                     51672 non-null  object \n",
      " 10  approx_cost(for two people)  51371 non-null  object \n",
      " 11  reviews_list                 51717 non-null  object \n",
      " 12  listed_in(type)              51717 non-null  object \n",
      "dtypes: float64(1), int64(1), object(11)\n",
      "memory usage: 5.1+ MB\n"
     ]
    }
   ],
   "source": [
    "final_df.info()"
   ]
  },
  {
   "cell_type": "code",
   "execution_count": 24,
   "id": "dcc9c54b",
   "metadata": {
    "execution": {
     "iopub.execute_input": "2024-02-06T14:24:53.773809Z",
     "iopub.status.busy": "2024-02-06T14:24:53.773378Z",
     "iopub.status.idle": "2024-02-06T14:24:53.787037Z",
     "shell.execute_reply": "2024-02-06T14:24:53.785654Z"
    },
    "papermill": {
     "duration": 0.032147,
     "end_time": "2024-02-06T14:24:53.789985",
     "exception": false,
     "start_time": "2024-02-06T14:24:53.757838",
     "status": "completed"
    },
    "tags": []
   },
   "outputs": [],
   "source": [
    "final_df=final_df.drop(['phone'],axis=1)"
   ]
  },
  {
   "cell_type": "markdown",
   "id": "daeb57e3",
   "metadata": {
    "papermill": {
     "duration": 0.013682,
     "end_time": "2024-02-06T14:24:53.818053",
     "exception": false,
     "start_time": "2024-02-06T14:24:53.804371",
     "status": "completed"
    },
    "tags": []
   },
   "source": [
    "## The final dataset contains all the columns EXCEPT menu_item,listed_in(city), url, address columns,phone"
   ]
  },
  {
   "cell_type": "code",
   "execution_count": 25,
   "id": "d5b3a440",
   "metadata": {
    "execution": {
     "iopub.execute_input": "2024-02-06T14:24:53.847823Z",
     "iopub.status.busy": "2024-02-06T14:24:53.847416Z",
     "iopub.status.idle": "2024-02-06T14:24:53.917201Z",
     "shell.execute_reply": "2024-02-06T14:24:53.915746Z"
    },
    "papermill": {
     "duration": 0.087609,
     "end_time": "2024-02-06T14:24:53.919764",
     "exception": false,
     "start_time": "2024-02-06T14:24:53.832155",
     "status": "completed"
    },
    "tags": []
   },
   "outputs": [
    {
     "name": "stdout",
     "output_type": "stream",
     "text": [
      "<class 'pandas.core.frame.DataFrame'>\n",
      "RangeIndex: 51717 entries, 0 to 51716\n",
      "Data columns (total 12 columns):\n",
      " #   Column                       Non-Null Count  Dtype  \n",
      "---  ------                       --------------  -----  \n",
      " 0   name                         51717 non-null  object \n",
      " 1   online_order                 51717 non-null  object \n",
      " 2   book_table                   51717 non-null  object \n",
      " 3   rate                         51717 non-null  float64\n",
      " 4   votes                        51717 non-null  int64  \n",
      " 5   location                     51696 non-null  object \n",
      " 6   rest_type                    51490 non-null  object \n",
      " 7   dish_liked                   23639 non-null  object \n",
      " 8   cuisines                     51672 non-null  object \n",
      " 9   approx_cost(for two people)  51371 non-null  object \n",
      " 10  reviews_list                 51717 non-null  object \n",
      " 11  listed_in(type)              51717 non-null  object \n",
      "dtypes: float64(1), int64(1), object(10)\n",
      "memory usage: 4.7+ MB\n"
     ]
    }
   ],
   "source": [
    "final_df.info()"
   ]
  },
  {
   "cell_type": "code",
   "execution_count": 26,
   "id": "d3482e5a",
   "metadata": {
    "execution": {
     "iopub.execute_input": "2024-02-06T14:24:53.950257Z",
     "iopub.status.busy": "2024-02-06T14:24:53.949866Z",
     "iopub.status.idle": "2024-02-06T14:24:53.961889Z",
     "shell.execute_reply": "2024-02-06T14:24:53.960738Z"
    },
    "papermill": {
     "duration": 0.03021,
     "end_time": "2024-02-06T14:24:53.964302",
     "exception": false,
     "start_time": "2024-02-06T14:24:53.934092",
     "status": "completed"
    },
    "tags": []
   },
   "outputs": [
    {
     "data": {
      "text/plain": [
       "7"
      ]
     },
     "execution_count": 26,
     "metadata": {},
     "output_type": "execute_result"
    }
   ],
   "source": [
    "final_df['listed_in(type)'].nunique()"
   ]
  },
  {
   "cell_type": "code",
   "execution_count": 27,
   "id": "77cbc3f2",
   "metadata": {
    "execution": {
     "iopub.execute_input": "2024-02-06T14:24:53.997519Z",
     "iopub.status.busy": "2024-02-06T14:24:53.996901Z",
     "iopub.status.idle": "2024-02-06T14:24:54.027405Z",
     "shell.execute_reply": "2024-02-06T14:24:54.026278Z"
    },
    "papermill": {
     "duration": 0.050569,
     "end_time": "2024-02-06T14:24:54.030127",
     "exception": false,
     "start_time": "2024-02-06T14:24:53.979558",
     "status": "completed"
    },
    "tags": []
   },
   "outputs": [],
   "source": [
    "final_df['approx_cost(for two people)']=final_df['approx_cost(for two people)'].str.replace(\",\",\"\")"
   ]
  },
  {
   "cell_type": "code",
   "execution_count": 28,
   "id": "69ae96b1",
   "metadata": {
    "execution": {
     "iopub.execute_input": "2024-02-06T14:24:54.063014Z",
     "iopub.status.busy": "2024-02-06T14:24:54.062577Z",
     "iopub.status.idle": "2024-02-06T14:24:54.077249Z",
     "shell.execute_reply": "2024-02-06T14:24:54.075968Z"
    },
    "papermill": {
     "duration": 0.034337,
     "end_time": "2024-02-06T14:24:54.079980",
     "exception": false,
     "start_time": "2024-02-06T14:24:54.045643",
     "status": "completed"
    },
    "tags": []
   },
   "outputs": [],
   "source": [
    "final_df['approx_cost(for two people)']=final_df['approx_cost(for two people)'].fillna(0)"
   ]
  },
  {
   "cell_type": "code",
   "execution_count": 29,
   "id": "2dd04059",
   "metadata": {
    "execution": {
     "iopub.execute_input": "2024-02-06T14:24:54.111092Z",
     "iopub.status.busy": "2024-02-06T14:24:54.110396Z",
     "iopub.status.idle": "2024-02-06T14:24:54.125271Z",
     "shell.execute_reply": "2024-02-06T14:24:54.124246Z"
    },
    "papermill": {
     "duration": 0.033545,
     "end_time": "2024-02-06T14:24:54.128030",
     "exception": false,
     "start_time": "2024-02-06T14:24:54.094485",
     "status": "completed"
    },
    "tags": []
   },
   "outputs": [],
   "source": [
    "final_df['approx_cost(for two people)']=final_df['approx_cost(for two people)'].astype('int')"
   ]
  },
  {
   "cell_type": "code",
   "execution_count": 30,
   "id": "b8649c9a",
   "metadata": {
    "execution": {
     "iopub.execute_input": "2024-02-06T14:24:54.159839Z",
     "iopub.status.busy": "2024-02-06T14:24:54.159375Z",
     "iopub.status.idle": "2024-02-06T14:24:54.167496Z",
     "shell.execute_reply": "2024-02-06T14:24:54.166298Z"
    },
    "papermill": {
     "duration": 0.026827,
     "end_time": "2024-02-06T14:24:54.170135",
     "exception": false,
     "start_time": "2024-02-06T14:24:54.143308",
     "status": "completed"
    },
    "tags": []
   },
   "outputs": [
    {
     "data": {
      "text/plain": [
       "551.7155867509716"
      ]
     },
     "execution_count": 30,
     "metadata": {},
     "output_type": "execute_result"
    }
   ],
   "source": [
    "final_df['approx_cost(for two people)'].mean()"
   ]
  },
  {
   "cell_type": "code",
   "execution_count": 31,
   "id": "88fdcae0",
   "metadata": {
    "execution": {
     "iopub.execute_input": "2024-02-06T14:24:54.203909Z",
     "iopub.status.busy": "2024-02-06T14:24:54.203239Z",
     "iopub.status.idle": "2024-02-06T14:24:54.214826Z",
     "shell.execute_reply": "2024-02-06T14:24:54.213729Z"
    },
    "papermill": {
     "duration": 0.031387,
     "end_time": "2024-02-06T14:24:54.217317",
     "exception": false,
     "start_time": "2024-02-06T14:24:54.185930",
     "status": "completed"
    },
    "tags": []
   },
   "outputs": [
    {
     "data": {
      "text/plain": [
       "approx_cost(for two people)\n",
       "300     7576\n",
       "400     6562\n",
       "500     4980\n",
       "200     4857\n",
       "600     3714\n",
       "        ... \n",
       "60         1\n",
       "5000       1\n",
       "3700       1\n",
       "469        1\n",
       "160        1\n",
       "Name: count, Length: 71, dtype: int64"
      ]
     },
     "execution_count": 31,
     "metadata": {},
     "output_type": "execute_result"
    }
   ],
   "source": [
    "final_df['approx_cost(for two people)'].value_counts()"
   ]
  },
  {
   "cell_type": "code",
   "execution_count": 32,
   "id": "927eb3fa",
   "metadata": {
    "execution": {
     "iopub.execute_input": "2024-02-06T14:24:54.249227Z",
     "iopub.status.busy": "2024-02-06T14:24:54.248273Z",
     "iopub.status.idle": "2024-02-06T14:24:54.254548Z",
     "shell.execute_reply": "2024-02-06T14:24:54.253506Z"
    },
    "papermill": {
     "duration": 0.024943,
     "end_time": "2024-02-06T14:24:54.257002",
     "exception": false,
     "start_time": "2024-02-06T14:24:54.232059",
     "status": "completed"
    },
    "tags": []
   },
   "outputs": [],
   "source": [
    "final_df['approx_cost(for two people)']=final_df['approx_cost(for two people)'].replace(0,552)"
   ]
  },
  {
   "cell_type": "markdown",
   "id": "d1ebda24",
   "metadata": {
    "papermill": {
     "duration": 0.015637,
     "end_time": "2024-02-06T14:24:54.288022",
     "exception": false,
     "start_time": "2024-02-06T14:24:54.272385",
     "status": "completed"
    },
    "tags": []
   },
   "source": [
    "## Approx cost(for two people) column is adjusted by taking the mean of the whole column and replacing the null values with it/"
   ]
  },
  {
   "cell_type": "code",
   "execution_count": 33,
   "id": "374725e6",
   "metadata": {
    "execution": {
     "iopub.execute_input": "2024-02-06T14:24:54.319354Z",
     "iopub.status.busy": "2024-02-06T14:24:54.318568Z",
     "iopub.status.idle": "2024-02-06T14:24:54.378840Z",
     "shell.execute_reply": "2024-02-06T14:24:54.377871Z"
    },
    "papermill": {
     "duration": 0.078599,
     "end_time": "2024-02-06T14:24:54.381315",
     "exception": false,
     "start_time": "2024-02-06T14:24:54.302716",
     "status": "completed"
    },
    "tags": []
   },
   "outputs": [
    {
     "data": {
      "text/plain": [
       "name                               0\n",
       "online_order                       0\n",
       "book_table                         0\n",
       "rate                               0\n",
       "votes                              0\n",
       "location                          21\n",
       "rest_type                        227\n",
       "dish_liked                     28078\n",
       "cuisines                          45\n",
       "approx_cost(for two people)        0\n",
       "reviews_list                       0\n",
       "listed_in(type)                    0\n",
       "dtype: int64"
      ]
     },
     "execution_count": 33,
     "metadata": {},
     "output_type": "execute_result"
    }
   ],
   "source": [
    "final_df.isnull().sum()"
   ]
  },
  {
   "cell_type": "code",
   "execution_count": 34,
   "id": "53e28691",
   "metadata": {
    "execution": {
     "iopub.execute_input": "2024-02-06T14:24:54.413622Z",
     "iopub.status.busy": "2024-02-06T14:24:54.412857Z",
     "iopub.status.idle": "2024-02-06T14:24:54.425614Z",
     "shell.execute_reply": "2024-02-06T14:24:54.424465Z"
    },
    "papermill": {
     "duration": 0.031542,
     "end_time": "2024-02-06T14:24:54.428037",
     "exception": false,
     "start_time": "2024-02-06T14:24:54.396495",
     "status": "completed"
    },
    "tags": []
   },
   "outputs": [
    {
     "data": {
      "text/plain": [
       "5271"
      ]
     },
     "execution_count": 34,
     "metadata": {},
     "output_type": "execute_result"
    }
   ],
   "source": [
    "final_df['dish_liked'].nunique()"
   ]
  },
  {
   "cell_type": "code",
   "execution_count": null,
   "id": "85542370",
   "metadata": {
    "papermill": {
     "duration": 0.015922,
     "end_time": "2024-02-06T14:24:54.458870",
     "exception": false,
     "start_time": "2024-02-06T14:24:54.442948",
     "status": "completed"
    },
    "tags": []
   },
   "outputs": [],
   "source": []
  }
 ],
 "metadata": {
  "kaggle": {
   "accelerator": "none",
   "dataSources": [
    {
     "datasetId": 153420,
     "sourceId": 352891,
     "sourceType": "datasetVersion"
    }
   ],
   "dockerImageVersionId": 30646,
   "isGpuEnabled": false,
   "isInternetEnabled": true,
   "language": "python",
   "sourceType": "notebook"
  },
  "kernelspec": {
   "display_name": "Python 3",
   "language": "python",
   "name": "python3"
  },
  "language_info": {
   "codemirror_mode": {
    "name": "ipython",
    "version": 3
   },
   "file_extension": ".py",
   "mimetype": "text/x-python",
   "name": "python",
   "nbconvert_exporter": "python",
   "pygments_lexer": "ipython3",
   "version": "3.10.13"
  },
  "papermill": {
   "default_parameters": {},
   "duration": 22.7416,
   "end_time": "2024-02-06T14:24:55.197589",
   "environment_variables": {},
   "exception": null,
   "input_path": "__notebook__.ipynb",
   "output_path": "__notebook__.ipynb",
   "parameters": {},
   "start_time": "2024-02-06T14:24:32.455989",
   "version": "2.5.0"
  }
 },
 "nbformat": 4,
 "nbformat_minor": 5
}
